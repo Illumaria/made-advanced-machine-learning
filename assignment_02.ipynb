{
  "nbformat": 4,
  "nbformat_minor": 0,
  "metadata": {
    "colab": {
      "name": "assignment_02.ipynb",
      "provenance": [],
      "collapsed_sections": []
    },
    "kernelspec": {
      "name": "python3",
      "display_name": "Python 3"
    },
    "accelerator": "GPU"
  },
  "cells": [
    {
      "cell_type": "markdown",
      "metadata": {
        "id": "c6qyDxAOGXyD"
      },
      "source": [
        "# Продвинутое машинное обучение\n",
        "# Домашнее задание 2"
      ]
    },
    {
      "cell_type": "markdown",
      "metadata": {
        "id": "M34ZHEJrGlbT"
      },
      "source": [
        "Второе домашнее задание — самое большое в курсе, в нём придётся и концептуально подумать о происходящем, и технические трудности тоже порешать. Как и раньше, в качестве решения **ожидается ссылка на jupyter-ноутбук на вашем Github (или публичный, или с доступом для snikolenko); ссылку обязательно нужно прислать в виде сданного домашнего задания на портале Академии**. Как всегда, любые комментарии, новые идеи и рассуждения на тему категорически приветствуются."
      ]
    },
    {
      "cell_type": "markdown",
      "metadata": {
        "id": "VC1U-r7zGwJv"
      },
      "source": [
        "Второе задание — это полноценный проект по анализу данных, начиная от анализа постановки задачи и заканчивая сравнением результатов разных моделей. Задача реальная и серьёзная, хотя тему я выбрал развлекательную: мы будем строить **вероятностную рейтинг-систему для спортивного \"Что? Где? Когда?\" (ЧГК)**."
      ]
    },
    {
      "cell_type": "markdown",
      "metadata": {
        "id": "MGrNtC8cG5V8"
      },
      "source": [
        "**Background**: в спортивном \"Что? Где? Когда?\" соревнующиеся команды отвечают на одни и те же вопросы. После минуты обсуждения команды записывают и сдают свои ответы на карточках; побеждает тот, кто ответил на большее число вопросов. Турнир обычно состоит из нескольких десятков вопросов (обычно 36 или 45, иногда 60, больше редко). Часто бывают синхронные турниры, когда на одни и те же вопросы отвечают команды на сотнях игровых площадок по всему миру, то есть в одном турнире могут играть сотни, а то и тысячи команд. Соответственно, нам нужно:\n",
        "* построить рейтинг-лист, который способен нетривиально предсказывать результаты будущих турниров;\n",
        "* при этом, поскольку ЧГК — это хобби, и контрактов тут никаких нет, игроки постоянно переходят из команды в команду, сильный игрок может на один турнир сесть поиграть за другую команду и так далее; поэтому единицей рейтинг-листа должна быть не команда, а отдельный игрок;\n",
        "* а что сильно упрощает задачу и переводит её в область домашних заданий на EM-алгоритм — это характер данных: начиная с какого-то момента в базу результатов начали вносить все повопросные результаты команд, то есть в данных будут записи вида \"какая команда на какой вопрос правильно ответила\"."
      ]
    },
    {
      "cell_type": "markdown",
      "metadata": {
        "id": "YWa9xGEYHb-Q"
      },
      "source": [
        "Я сделал за вас только первый шаг: выкачал через API [сайта рейтинга ЧГК](https://rating.chgk.info/) все нужные данные, чтобы сайт не прилёг под вашими многочисленными скрейперами. :) Полученные данные лежат в формате *pickle* вот здесь:\n",
        "\n",
        "https://www.dropbox.com/s/s4qj0fpsn378m2i/chgk.zip"
      ]
    },
    {
      "cell_type": "markdown",
      "metadata": {
        "id": "YI-BYaY8Yxfq"
      },
      "source": [
        "## Часть 1"
      ]
    },
    {
      "cell_type": "markdown",
      "metadata": {
        "id": "3oD3ZVSIY6DC"
      },
      "source": [
        "### Задание"
      ]
    },
    {
      "cell_type": "markdown",
      "metadata": {
        "id": "fgXaVn2RYuw7"
      },
      "source": [
        "Прочитайте и проанализируйте данные, выберите турниры, в которых есть данные о составах команд и повопросных результатах (поле *mask* в results.pkl). Для унификации предлагаю:\n",
        " * взять в тренировочный набор турниры с dateStart из 2019 года;\n",
        " * в тестовый — турниры с dateStart из 2020 года."
      ]
    },
    {
      "cell_type": "markdown",
      "metadata": {
        "id": "ozezdWW1Y8J8"
      },
      "source": [
        "### Решение"
      ]
    },
    {
      "cell_type": "markdown",
      "metadata": {
        "id": "W224sXzLLDqb"
      },
      "source": [
        "#### Импорт библиотек"
      ]
    },
    {
      "cell_type": "code",
      "metadata": {
        "id": "dkp5oeOL95KD"
      },
      "source": [
        "from collections import defaultdict\n",
        "import os\n",
        "\n",
        "import matplotlib.pyplot as plt\n",
        "import numpy as np\n",
        "import pandas as pd\n",
        "import seaborn as sns\n",
        "import torch\n",
        "from torch import optim\n",
        "from torch import nn\n",
        "from scipy.stats import kendalltau, spearmanr\n",
        "from sklearn.preprocessing import OneHotEncoder\n",
        "from IPython.display import clear_output"
      ],
      "execution_count": 1,
      "outputs": []
    },
    {
      "cell_type": "code",
      "metadata": {
        "id": "-Ya3VgN34PsD"
      },
      "source": [
        "TOP_N = 20  # number of top players and tournaments to consider\n",
        "N_EPOCHS = 10  # number of epochs to train the model"
      ],
      "execution_count": 2,
      "outputs": []
    },
    {
      "cell_type": "markdown",
      "metadata": {
        "id": "mBZG0hvwKPtv"
      },
      "source": [
        "#### Загрузка данных"
      ]
    },
    {
      "cell_type": "code",
      "metadata": {
        "id": "tPpKhDvyGOsW"
      },
      "source": [
        "if not os.path.exists(\"/content/chgk.zip\"):\n",
        "    !rm -rf chgk.zip\n",
        "    !wget -q https://www.dropbox.com/s/s4qj0fpsn378m2i/chgk.zip\n",
        "    !unzip -oq chgk.zip"
      ],
      "execution_count": 3,
      "outputs": []
    },
    {
      "cell_type": "markdown",
      "metadata": {
        "id": "oSFbFso6qKea"
      },
      "source": [
        "##### Игроки"
      ]
    },
    {
      "cell_type": "code",
      "metadata": {
        "id": "e5d8QtL2KZPg"
      },
      "source": [
        "players = pd.read_pickle(\"/content/players.pkl\")\n",
        "players = pd.DataFrame.from_dict(players, orient=\"index\")"
      ],
      "execution_count": 4,
      "outputs": []
    },
    {
      "cell_type": "code",
      "metadata": {
        "colab": {
          "base_uri": "https://localhost:8080/",
          "height": 204
        },
        "id": "gb2GI35HLPMs",
        "outputId": "7a31d382-5327-4994-fbbe-7cd1022c7ab7"
      },
      "source": [
        "players.head()"
      ],
      "execution_count": 5,
      "outputs": [
        {
          "output_type": "execute_result",
          "data": {
            "text/html": [
              "<div>\n",
              "<style scoped>\n",
              "    .dataframe tbody tr th:only-of-type {\n",
              "        vertical-align: middle;\n",
              "    }\n",
              "\n",
              "    .dataframe tbody tr th {\n",
              "        vertical-align: top;\n",
              "    }\n",
              "\n",
              "    .dataframe thead th {\n",
              "        text-align: right;\n",
              "    }\n",
              "</style>\n",
              "<table border=\"1\" class=\"dataframe\">\n",
              "  <thead>\n",
              "    <tr style=\"text-align: right;\">\n",
              "      <th></th>\n",
              "      <th>id</th>\n",
              "      <th>name</th>\n",
              "      <th>patronymic</th>\n",
              "      <th>surname</th>\n",
              "    </tr>\n",
              "  </thead>\n",
              "  <tbody>\n",
              "    <tr>\n",
              "      <th>1</th>\n",
              "      <td>1</td>\n",
              "      <td>Алексей</td>\n",
              "      <td>None</td>\n",
              "      <td>Абабилов</td>\n",
              "    </tr>\n",
              "    <tr>\n",
              "      <th>10</th>\n",
              "      <td>10</td>\n",
              "      <td>Игорь</td>\n",
              "      <td></td>\n",
              "      <td>Абалов</td>\n",
              "    </tr>\n",
              "    <tr>\n",
              "      <th>11</th>\n",
              "      <td>11</td>\n",
              "      <td>Наталья</td>\n",
              "      <td>Юрьевна</td>\n",
              "      <td>Абалымова</td>\n",
              "    </tr>\n",
              "    <tr>\n",
              "      <th>12</th>\n",
              "      <td>12</td>\n",
              "      <td>Артур</td>\n",
              "      <td>Евгеньевич</td>\n",
              "      <td>Абальян</td>\n",
              "    </tr>\n",
              "    <tr>\n",
              "      <th>13</th>\n",
              "      <td>13</td>\n",
              "      <td>Эрик</td>\n",
              "      <td>Евгеньевич</td>\n",
              "      <td>Абальян</td>\n",
              "    </tr>\n",
              "  </tbody>\n",
              "</table>\n",
              "</div>"
            ],
            "text/plain": [
              "    id     name  patronymic    surname\n",
              "1    1  Алексей        None   Абабилов\n",
              "10  10    Игорь                 Абалов\n",
              "11  11  Наталья     Юрьевна  Абалымова\n",
              "12  12    Артур  Евгеньевич    Абальян\n",
              "13  13     Эрик  Евгеньевич    Абальян"
            ]
          },
          "metadata": {
            "tags": []
          },
          "execution_count": 5
        }
      ]
    },
    {
      "cell_type": "markdown",
      "metadata": {
        "id": "JKIvNQqXqMPR"
      },
      "source": [
        "##### Турниры"
      ]
    },
    {
      "cell_type": "code",
      "metadata": {
        "id": "CuURy3UXP-AB"
      },
      "source": [
        "tournaments = pd.read_pickle(\"/content/tournaments.pkl\")\n",
        "tournaments = pd.DataFrame.from_dict(tournaments, orient=\"index\")"
      ],
      "execution_count": 6,
      "outputs": []
    },
    {
      "cell_type": "code",
      "metadata": {
        "colab": {
          "base_uri": "https://localhost:8080/",
          "height": 289
        },
        "id": "Ym1R6JOgCC7M",
        "outputId": "4a7892b3-1e81-439c-c302-329fa4266412"
      },
      "source": [
        "tournaments.head()"
      ],
      "execution_count": 7,
      "outputs": [
        {
          "output_type": "execute_result",
          "data": {
            "text/html": [
              "<div>\n",
              "<style scoped>\n",
              "    .dataframe tbody tr th:only-of-type {\n",
              "        vertical-align: middle;\n",
              "    }\n",
              "\n",
              "    .dataframe tbody tr th {\n",
              "        vertical-align: top;\n",
              "    }\n",
              "\n",
              "    .dataframe thead th {\n",
              "        text-align: right;\n",
              "    }\n",
              "</style>\n",
              "<table border=\"1\" class=\"dataframe\">\n",
              "  <thead>\n",
              "    <tr style=\"text-align: right;\">\n",
              "      <th></th>\n",
              "      <th>id</th>\n",
              "      <th>name</th>\n",
              "      <th>dateStart</th>\n",
              "      <th>dateEnd</th>\n",
              "      <th>type</th>\n",
              "      <th>season</th>\n",
              "      <th>orgcommittee</th>\n",
              "      <th>synchData</th>\n",
              "      <th>questionQty</th>\n",
              "    </tr>\n",
              "  </thead>\n",
              "  <tbody>\n",
              "    <tr>\n",
              "      <th>1</th>\n",
              "      <td>1</td>\n",
              "      <td>Чемпионат Южного Кавказа</td>\n",
              "      <td>2003-07-25T00:00:00+04:00</td>\n",
              "      <td>2003-07-27T00:00:00+04:00</td>\n",
              "      <td>{'id': 2, 'name': 'Обычный'}</td>\n",
              "      <td>/seasons/1</td>\n",
              "      <td>[]</td>\n",
              "      <td>None</td>\n",
              "      <td>None</td>\n",
              "    </tr>\n",
              "    <tr>\n",
              "      <th>2</th>\n",
              "      <td>2</td>\n",
              "      <td>Летние зори</td>\n",
              "      <td>2003-08-09T00:00:00+04:00</td>\n",
              "      <td>2003-08-09T00:00:00+04:00</td>\n",
              "      <td>{'id': 2, 'name': 'Обычный'}</td>\n",
              "      <td>/seasons/1</td>\n",
              "      <td>[]</td>\n",
              "      <td>None</td>\n",
              "      <td>None</td>\n",
              "    </tr>\n",
              "    <tr>\n",
              "      <th>3</th>\n",
              "      <td>3</td>\n",
              "      <td>Турнир в Ижевске</td>\n",
              "      <td>2003-11-22T00:00:00+03:00</td>\n",
              "      <td>2003-11-24T00:00:00+03:00</td>\n",
              "      <td>{'id': 2, 'name': 'Обычный'}</td>\n",
              "      <td>/seasons/2</td>\n",
              "      <td>[]</td>\n",
              "      <td>None</td>\n",
              "      <td>None</td>\n",
              "    </tr>\n",
              "    <tr>\n",
              "      <th>4</th>\n",
              "      <td>4</td>\n",
              "      <td>Чемпионат Украины. Переходной этап</td>\n",
              "      <td>2003-10-11T00:00:00+04:00</td>\n",
              "      <td>2003-10-12T00:00:00+04:00</td>\n",
              "      <td>{'id': 2, 'name': 'Обычный'}</td>\n",
              "      <td>/seasons/2</td>\n",
              "      <td>[]</td>\n",
              "      <td>None</td>\n",
              "      <td>None</td>\n",
              "    </tr>\n",
              "    <tr>\n",
              "      <th>5</th>\n",
              "      <td>5</td>\n",
              "      <td>Бостонское чаепитие</td>\n",
              "      <td>2003-10-10T00:00:00+04:00</td>\n",
              "      <td>2003-10-13T00:00:00+04:00</td>\n",
              "      <td>{'id': 2, 'name': 'Обычный'}</td>\n",
              "      <td>/seasons/2</td>\n",
              "      <td>[]</td>\n",
              "      <td>None</td>\n",
              "      <td>None</td>\n",
              "    </tr>\n",
              "  </tbody>\n",
              "</table>\n",
              "</div>"
            ],
            "text/plain": [
              "   id                                name  ... synchData questionQty\n",
              "1   1            Чемпионат Южного Кавказа  ...      None        None\n",
              "2   2                         Летние зори  ...      None        None\n",
              "3   3                    Турнир в Ижевске  ...      None        None\n",
              "4   4  Чемпионат Украины. Переходной этап  ...      None        None\n",
              "5   5                 Бостонское чаепитие  ...      None        None\n",
              "\n",
              "[5 rows x 9 columns]"
            ]
          },
          "metadata": {
            "tags": []
          },
          "execution_count": 7
        }
      ]
    },
    {
      "cell_type": "code",
      "metadata": {
        "colab": {
          "base_uri": "https://localhost:8080/"
        },
        "id": "4M0Tgg2Gtrfe",
        "outputId": "eb7a45b9-169e-4a80-cf8e-9972aae0de0d"
      },
      "source": [
        "min_start_date = tournaments[\"dateStart\"].min().split('T')[0]\n",
        "max_start_date = tournaments[\"dateStart\"].max().split('T')[0]\n",
        "\n",
        "print(f\"Minimum tournament start date: {min_start_date}.\")\n",
        "print(f\"Maximum tournament start date: {max_start_date}.\")"
      ],
      "execution_count": 8,
      "outputs": [
        {
          "output_type": "stream",
          "text": [
            "Minimum tournament start date: 1992-09-08.\n",
            "Maximum tournament start date: 2021-03-05.\n"
          ],
          "name": "stdout"
        }
      ]
    },
    {
      "cell_type": "code",
      "metadata": {
        "colab": {
          "base_uri": "https://localhost:8080/"
        },
        "id": "T32-QNyaunWL",
        "outputId": "5a80de1f-16c9-4944-a204-faafde138fbe"
      },
      "source": [
        "min_end_date = tournaments[\"dateEnd\"].min().split('T')[0]\n",
        "max_end_date = tournaments[\"dateEnd\"].max().split('T')[0]\n",
        "\n",
        "print(f\"Minimum tournament end date: {min_end_date}.\")\n",
        "print(f\"Maximum tournament end date: {max_end_date}.\")"
      ],
      "execution_count": 9,
      "outputs": [
        {
          "output_type": "stream",
          "text": [
            "Minimum tournament end date: 1992-09-10.\n",
            "Maximum tournament end date: 2021-03-07.\n"
          ],
          "name": "stdout"
        }
      ]
    },
    {
      "cell_type": "markdown",
      "metadata": {
        "id": "gpElREhvqOrE"
      },
      "source": [
        "##### Результаты"
      ]
    },
    {
      "cell_type": "code",
      "metadata": {
        "id": "HW43O4oCMg2y"
      },
      "source": [
        "results = pd.read_pickle(\"/content/results.pkl\")"
      ],
      "execution_count": 10,
      "outputs": []
    },
    {
      "cell_type": "markdown",
      "metadata": {
        "id": "O9zSALqU1mFb"
      },
      "source": [
        "#### Формирование датасета"
      ]
    },
    {
      "cell_type": "code",
      "metadata": {
        "id": "heFFdVEq6Bbm"
      },
      "source": [
        "def build_dataset(year):\n",
        "    data = defaultdict(list)\n",
        "\n",
        "    for num, teams in results.items():\n",
        "        tournament_year = int(tournaments.at[num, \"dateStart\"].split('-')[0])\n",
        "        for team in teams:\n",
        "            for member in team[\"teamMembers\"]:\n",
        "                if tournament_year == year and team.get(\"mask\", None):\n",
        "                    data[num].append({\n",
        "                        \"tournament_id\": num,\n",
        "                        \"tournament_name\": tournaments.at[num, \"name\"],\n",
        "                        \"team_id\": team[\"team\"][\"id\"],\n",
        "                        \"team_name\": team[\"team\"][\"name\"],\n",
        "                        \"questions_mask\": team.get(\"mask\", None),\n",
        "                        \"questionQty\": tournaments.at[num, \"questionQty\"],\n",
        "                        \"position\": team.get(\"position\", None),\n",
        "                        \"player_id\": member[\"player\"][\"id\"],\n",
        "                        \"player_name\": member[\"player\"][\"surname\"] + \" \" + \\\n",
        "                                       member[\"player\"][\"name\"]\n",
        "                    })\n",
        "    return data"
      ],
      "execution_count": 11,
      "outputs": []
    },
    {
      "cell_type": "markdown",
      "metadata": {
        "id": "olofXsaYEdV2"
      },
      "source": [
        "Разделим данные на тренировочный и тестовый наборы:"
      ]
    },
    {
      "cell_type": "code",
      "metadata": {
        "id": "iUym0nxf6xIS"
      },
      "source": [
        "train_data = build_dataset(2019)\n",
        "test_data = build_dataset(2020)"
      ],
      "execution_count": 12,
      "outputs": []
    },
    {
      "cell_type": "markdown",
      "metadata": {
        "id": "-s4cIiH9E3dm"
      },
      "source": [
        "В данных присутствуют команды, длина маски ответов которых не сооответствует количеству вопросов в турнире. Отфильтруем такие команды:"
      ]
    },
    {
      "cell_type": "code",
      "metadata": {
        "id": "xf5oHQZu4wLq",
        "colab": {
          "base_uri": "https://localhost:8080/"
        },
        "outputId": "bff2eb76-cb07-4a16-a9d0-b1546a20e051"
      },
      "source": [
        "data_cleaned = defaultdict(list)\n",
        "errors = []\n",
        "\n",
        "for tournament_id, teams in train_data.items():\n",
        "    for team in teams:\n",
        "        if len(team[\"questions_mask\"]) == sum(team[\"questionQty\"].values()):\n",
        "            data_cleaned[tournament_id].append(team)\n",
        "        else:\n",
        "            errors.append(str(tournament_id))\n",
        "\n",
        "train_data = data_cleaned\n",
        "\n",
        "print(f\"Number of teams with mismatched question masks: \" \\\n",
        "      f\"{len(errors)}.\")\n",
        "print(f\"Number of tournaments with mismatched team question masks: \" \\\n",
        "      f\"{len(set(errors))}.\")\n",
        "print(\"IDs of tournaments with mismatched team question masks:\")\n",
        "print(', '.join(sorted(set(errors))))"
      ],
      "execution_count": 13,
      "outputs": [
        {
          "output_type": "stream",
          "text": [
            "Number of teams with mismatched question masks: 37040.\n",
            "Number of tournaments with mismatched team question masks: 12.\n",
            "IDs of tournaments with mismatched team question masks:\n",
            "5462, 5553, 5554, 5703, 5760, 5864, 6026, 6085, 6090, 6249, 6254, 6255\n"
          ],
          "name": "stdout"
        }
      ]
    },
    {
      "cell_type": "code",
      "metadata": {
        "colab": {
          "base_uri": "https://localhost:8080/"
        },
        "id": "OmKZgc0f3LLc",
        "outputId": "605743ae-d65a-4b54-9fc5-660c8e0b185a"
      },
      "source": [
        "print(f\"Unique tournaments in train data: {len(train_data)}.\")\n",
        "print(f\"Unique tournaments in test data: {len(test_data)}.\")"
      ],
      "execution_count": 14,
      "outputs": [
        {
          "output_type": "stream",
          "text": [
            "Unique tournaments in train data: 675.\n",
            "Unique tournaments in test data: 173.\n"
          ],
          "name": "stdout"
        }
      ]
    },
    {
      "cell_type": "code",
      "metadata": {
        "id": "64N0BvtegyF6"
      },
      "source": [
        "train_data = [x for _, v in train_data.items() for x in v]\n",
        "test_data = [x for _, v in test_data.items() for x in v]"
      ],
      "execution_count": 15,
      "outputs": []
    },
    {
      "cell_type": "code",
      "metadata": {
        "id": "MK4mtcBh0TIt"
      },
      "source": [
        "train_df = pd.DataFrame(train_data)\n",
        "test_df = pd.DataFrame(test_data)"
      ],
      "execution_count": 16,
      "outputs": []
    },
    {
      "cell_type": "markdown",
      "metadata": {
        "id": "99EUJ9UDNolj"
      },
      "source": [
        "Итоговое количество данных в тренировочном и тестовом наборах данных:"
      ]
    },
    {
      "cell_type": "code",
      "metadata": {
        "colab": {
          "base_uri": "https://localhost:8080/"
        },
        "id": "TyHE8ZGcNLop",
        "outputId": "b81ddc28-ff7a-4dac-a0c2-315aedb900d6"
      },
      "source": [
        "train_df.shape[0], test_df.shape[0]"
      ],
      "execution_count": 17,
      "outputs": [
        {
          "output_type": "execute_result",
          "data": {
            "text/plain": [
              "(414743, 112841)"
            ]
          },
          "metadata": {
            "tags": []
          },
          "execution_count": 17
        }
      ]
    },
    {
      "cell_type": "markdown",
      "metadata": {
        "id": "ZYaA40IlNvqv"
      },
      "source": [
        "Итоговое количество турниров в тренировочном и тестовом наборах данных:"
      ]
    },
    {
      "cell_type": "code",
      "metadata": {
        "colab": {
          "base_uri": "https://localhost:8080/"
        },
        "id": "Qz3k0bObNPYZ",
        "outputId": "94af3984-299c-4361-aba2-c55eaa973263"
      },
      "source": [
        "train_df[\"tournament_id\"].nunique(), test_df[\"tournament_id\"].nunique()"
      ],
      "execution_count": 18,
      "outputs": [
        {
          "output_type": "execute_result",
          "data": {
            "text/plain": [
              "(675, 173)"
            ]
          },
          "metadata": {
            "tags": []
          },
          "execution_count": 18
        }
      ]
    },
    {
      "cell_type": "code",
      "metadata": {
        "colab": {
          "base_uri": "https://localhost:8080/",
          "height": 374
        },
        "id": "Q8bscksCNS8K",
        "outputId": "79b4ad87-0196-413d-fbff-a4aa743d3ab4"
      },
      "source": [
        "train_df.head()"
      ],
      "execution_count": 19,
      "outputs": [
        {
          "output_type": "execute_result",
          "data": {
            "text/html": [
              "<div>\n",
              "<style scoped>\n",
              "    .dataframe tbody tr th:only-of-type {\n",
              "        vertical-align: middle;\n",
              "    }\n",
              "\n",
              "    .dataframe tbody tr th {\n",
              "        vertical-align: top;\n",
              "    }\n",
              "\n",
              "    .dataframe thead th {\n",
              "        text-align: right;\n",
              "    }\n",
              "</style>\n",
              "<table border=\"1\" class=\"dataframe\">\n",
              "  <thead>\n",
              "    <tr style=\"text-align: right;\">\n",
              "      <th></th>\n",
              "      <th>tournament_id</th>\n",
              "      <th>tournament_name</th>\n",
              "      <th>team_id</th>\n",
              "      <th>team_name</th>\n",
              "      <th>questions_mask</th>\n",
              "      <th>questionQty</th>\n",
              "      <th>position</th>\n",
              "      <th>player_id</th>\n",
              "      <th>player_name</th>\n",
              "    </tr>\n",
              "  </thead>\n",
              "  <tbody>\n",
              "    <tr>\n",
              "      <th>0</th>\n",
              "      <td>4772</td>\n",
              "      <td>Синхрон северных стран. Зимний выпуск</td>\n",
              "      <td>45556</td>\n",
              "      <td>Рабочее название</td>\n",
              "      <td>111111111011111110111111111100010010</td>\n",
              "      <td>{'1': 12, '2': 12, '3': 12}</td>\n",
              "      <td>1.0</td>\n",
              "      <td>6212</td>\n",
              "      <td>Выменец Юрий</td>\n",
              "    </tr>\n",
              "    <tr>\n",
              "      <th>1</th>\n",
              "      <td>4772</td>\n",
              "      <td>Синхрон северных стран. Зимний выпуск</td>\n",
              "      <td>45556</td>\n",
              "      <td>Рабочее название</td>\n",
              "      <td>111111111011111110111111111100010010</td>\n",
              "      <td>{'1': 12, '2': 12, '3': 12}</td>\n",
              "      <td>1.0</td>\n",
              "      <td>18332</td>\n",
              "      <td>Либер Александр</td>\n",
              "    </tr>\n",
              "    <tr>\n",
              "      <th>2</th>\n",
              "      <td>4772</td>\n",
              "      <td>Синхрон северных стран. Зимний выпуск</td>\n",
              "      <td>45556</td>\n",
              "      <td>Рабочее название</td>\n",
              "      <td>111111111011111110111111111100010010</td>\n",
              "      <td>{'1': 12, '2': 12, '3': 12}</td>\n",
              "      <td>1.0</td>\n",
              "      <td>18036</td>\n",
              "      <td>Левандовский Михаил</td>\n",
              "    </tr>\n",
              "    <tr>\n",
              "      <th>3</th>\n",
              "      <td>4772</td>\n",
              "      <td>Синхрон северных стран. Зимний выпуск</td>\n",
              "      <td>45556</td>\n",
              "      <td>Рабочее название</td>\n",
              "      <td>111111111011111110111111111100010010</td>\n",
              "      <td>{'1': 12, '2': 12, '3': 12}</td>\n",
              "      <td>1.0</td>\n",
              "      <td>22799</td>\n",
              "      <td>Николенко Сергей</td>\n",
              "    </tr>\n",
              "    <tr>\n",
              "      <th>4</th>\n",
              "      <td>4772</td>\n",
              "      <td>Синхрон северных стран. Зимний выпуск</td>\n",
              "      <td>45556</td>\n",
              "      <td>Рабочее название</td>\n",
              "      <td>111111111011111110111111111100010010</td>\n",
              "      <td>{'1': 12, '2': 12, '3': 12}</td>\n",
              "      <td>1.0</td>\n",
              "      <td>15456</td>\n",
              "      <td>Коновалов Сергей</td>\n",
              "    </tr>\n",
              "  </tbody>\n",
              "</table>\n",
              "</div>"
            ],
            "text/plain": [
              "   tournament_id  ...          player_name\n",
              "0           4772  ...         Выменец Юрий\n",
              "1           4772  ...      Либер Александр\n",
              "2           4772  ...  Левандовский Михаил\n",
              "3           4772  ...     Николенко Сергей\n",
              "4           4772  ...     Коновалов Сергей\n",
              "\n",
              "[5 rows x 9 columns]"
            ]
          },
          "metadata": {
            "tags": []
          },
          "execution_count": 19
        }
      ]
    },
    {
      "cell_type": "code",
      "metadata": {
        "id": "HYn94AWWTY2C"
      },
      "source": [
        "# We won't need results anymore, so let's clear RAM:\n",
        "del results\n",
        "del train_data\n",
        "del test_data"
      ],
      "execution_count": 20,
      "outputs": []
    },
    {
      "cell_type": "markdown",
      "metadata": {
        "id": "VXWUvnJZarmp"
      },
      "source": [
        "## Часть 2"
      ]
    },
    {
      "cell_type": "markdown",
      "metadata": {
        "id": "BUcoewQRatbz"
      },
      "source": [
        "### Задание"
      ]
    },
    {
      "cell_type": "markdown",
      "metadata": {
        "id": "g6w2VreQY1OS"
      },
      "source": [
        "Постройте baseline-модель на основе линейной или логистической регрессии, которая будет обучать рейтинг-лист игроков. Замечания и подсказки:\n",
        " * повопросные результаты — это фактически результаты броска монетки, и их предсказание скорее всего имеет отношение к бинарной классификации;\n",
        " * в разных турнирах вопросы совсем разного уровня сложности, поэтому модель должна это учитывать; скорее всего, модель должна будет явно обучать не только силу каждого игрока, но и сложность каждого вопроса;\n",
        " * для baseline-модели можно забыть о командах и считать, что повопросные результаты команды просто относятся к каждому из её игроков."
      ]
    },
    {
      "cell_type": "markdown",
      "metadata": {
        "id": "gKtO9f9wawKR"
      },
      "source": [
        "### Решение"
      ]
    },
    {
      "cell_type": "markdown",
      "metadata": {
        "id": "dBGwMvADOW7L"
      },
      "source": [
        "Преобразуем тренировочные данные в повопросные результаты по игрокам. В качестве ID вопроса будем использовать формат `<ID турнира>_<порядковый номер вопроса>`. Кроме того, не будем учитывать вопросы с неизвестным статусом, помеченные как `X` и `?` в маске."
      ]
    },
    {
      "cell_type": "code",
      "metadata": {
        "id": "Mu7OlAyWOQDh"
      },
      "source": [
        "qa_data = {\n",
        "    \"question_id\": [],\n",
        "    \"player_id\": [],\n",
        "    \"team_id\": [],\n",
        "    \"tournament_id\": [],\n",
        "    \"answer_label\": [],\n",
        "}\n",
        "\n",
        "for tournament_id, team_id, player_id, mask in zip(train_df[\"tournament_id\"],\n",
        "                                                   train_df[\"team_id\"],\n",
        "                                                   train_df[\"player_id\"],\n",
        "                                                   train_df[\"questions_mask\"]):\n",
        "    for index, value in enumerate(mask):\n",
        "        if value not in [\"X\", \"?\"]:\n",
        "            qa_data[\"tournament_id\"].append(tournament_id)\n",
        "            qa_data[\"team_id\"].append(team_id)\n",
        "            qa_data[\"question_id\"].append(f\"{tournament_id}_{index}\")\n",
        "            qa_data[\"player_id\"].append(player_id)\n",
        "            qa_data[\"answer_label\"].append(int(value))"
      ],
      "execution_count": 21,
      "outputs": []
    },
    {
      "cell_type": "code",
      "metadata": {
        "id": "7Nz1djyhPRDq"
      },
      "source": [
        "qa_data_df = pd.DataFrame(qa_data)"
      ],
      "execution_count": 22,
      "outputs": []
    },
    {
      "cell_type": "code",
      "metadata": {
        "id": "tVrdCdGNFpQJ"
      },
      "source": [
        "# Decrease RAM consuming and get some speedup\n",
        "# by changing types from int64 to smaller ones:\n",
        "qa_data_df = qa_data_df.astype(dtype={\n",
        "    \"player_id\": np.uint32,\n",
        "    \"team_id\": np.uint32,\n",
        "    \"tournament_id\": np.uint32,\n",
        "    \"answer_label\": np.uint8\n",
        "})\n",
        "\n",
        "qa_data = qa_data_df.copy()"
      ],
      "execution_count": 23,
      "outputs": []
    },
    {
      "cell_type": "code",
      "metadata": {
        "colab": {
          "base_uri": "https://localhost:8080/",
          "height": 204
        },
        "id": "YoFffTVTPbrP",
        "outputId": "d732b737-7f33-4caf-dcdf-215a8ad72c45"
      },
      "source": [
        "qa_data_df.head()"
      ],
      "execution_count": 24,
      "outputs": [
        {
          "output_type": "execute_result",
          "data": {
            "text/html": [
              "<div>\n",
              "<style scoped>\n",
              "    .dataframe tbody tr th:only-of-type {\n",
              "        vertical-align: middle;\n",
              "    }\n",
              "\n",
              "    .dataframe tbody tr th {\n",
              "        vertical-align: top;\n",
              "    }\n",
              "\n",
              "    .dataframe thead th {\n",
              "        text-align: right;\n",
              "    }\n",
              "</style>\n",
              "<table border=\"1\" class=\"dataframe\">\n",
              "  <thead>\n",
              "    <tr style=\"text-align: right;\">\n",
              "      <th></th>\n",
              "      <th>question_id</th>\n",
              "      <th>player_id</th>\n",
              "      <th>team_id</th>\n",
              "      <th>tournament_id</th>\n",
              "      <th>answer_label</th>\n",
              "    </tr>\n",
              "  </thead>\n",
              "  <tbody>\n",
              "    <tr>\n",
              "      <th>0</th>\n",
              "      <td>4772_0</td>\n",
              "      <td>6212</td>\n",
              "      <td>45556</td>\n",
              "      <td>4772</td>\n",
              "      <td>1</td>\n",
              "    </tr>\n",
              "    <tr>\n",
              "      <th>1</th>\n",
              "      <td>4772_1</td>\n",
              "      <td>6212</td>\n",
              "      <td>45556</td>\n",
              "      <td>4772</td>\n",
              "      <td>1</td>\n",
              "    </tr>\n",
              "    <tr>\n",
              "      <th>2</th>\n",
              "      <td>4772_2</td>\n",
              "      <td>6212</td>\n",
              "      <td>45556</td>\n",
              "      <td>4772</td>\n",
              "      <td>1</td>\n",
              "    </tr>\n",
              "    <tr>\n",
              "      <th>3</th>\n",
              "      <td>4772_3</td>\n",
              "      <td>6212</td>\n",
              "      <td>45556</td>\n",
              "      <td>4772</td>\n",
              "      <td>1</td>\n",
              "    </tr>\n",
              "    <tr>\n",
              "      <th>4</th>\n",
              "      <td>4772_4</td>\n",
              "      <td>6212</td>\n",
              "      <td>45556</td>\n",
              "      <td>4772</td>\n",
              "      <td>1</td>\n",
              "    </tr>\n",
              "  </tbody>\n",
              "</table>\n",
              "</div>"
            ],
            "text/plain": [
              "  question_id  player_id  team_id  tournament_id  answer_label\n",
              "0      4772_0       6212    45556           4772             1\n",
              "1      4772_1       6212    45556           4772             1\n",
              "2      4772_2       6212    45556           4772             1\n",
              "3      4772_3       6212    45556           4772             1\n",
              "4      4772_4       6212    45556           4772             1"
            ]
          },
          "metadata": {
            "tags": []
          },
          "execution_count": 24
        }
      ]
    },
    {
      "cell_type": "code",
      "metadata": {
        "colab": {
          "base_uri": "https://localhost:8080/"
        },
        "id": "5Y2iSAOewOp8",
        "outputId": "48d293a7-c86c-40c2-e71b-0a838d74f32b"
      },
      "source": [
        "qa_data_df.shape"
      ],
      "execution_count": 25,
      "outputs": [
        {
          "output_type": "execute_result",
          "data": {
            "text/plain": [
              "(17739658, 5)"
            ]
          },
          "metadata": {
            "tags": []
          },
          "execution_count": 25
        }
      ]
    },
    {
      "cell_type": "markdown",
      "metadata": {
        "id": "4S5UIl-dP-CE"
      },
      "source": [
        "Произведём One Hot преобразование идентификаторов игроков и вопросов, чтобы параметры модели представляли собой вектор $w = (S_1, S_2, ..., S_N, q_1, q_2, ..., q_M, \\mu),$ где $N$ — общее количество игроков, $M$ — общее количество вопросов. Таким образом, модель будет учитывать \"силы\" игроков $S_i, i = 1, ..., N$ и сложность вопросов $q_j, j = 1, ..., M$. Здесь $\\mu$ — глобальная константа."
      ]
    },
    {
      "cell_type": "code",
      "metadata": {
        "id": "2l_NY3c_P8vO"
      },
      "source": [
        "encoder = OneHotEncoder()\n",
        "\n",
        "train_data = encoder.fit_transform(\n",
        "    qa_data_df[[\"player_id\", \"question_id\"]]\n",
        ")"
      ],
      "execution_count": 26,
      "outputs": []
    },
    {
      "cell_type": "markdown",
      "metadata": {
        "id": "II3W6H0nJ0ee"
      },
      "source": [
        "Определим модель и $M$-шаг. На $M$-шаге происходит простое обучение модели при заданных \"силах\" игроков и сложностях вопросов с уточнением параметров модели."
      ]
    },
    {
      "cell_type": "code",
      "metadata": {
        "id": "-B4RtGuDQLMv"
      },
      "source": [
        "class LogisticRegression(nn.Module):\n",
        "    def __init__(self, n_features):\n",
        "        super(LogisticRegression, self).__init__()\n",
        "        self.fc = nn.Linear(n_features, 1)\n",
        "        self.sigmoid = nn.Sigmoid()\n",
        "\n",
        "    def forward(self, x):\n",
        "        x = self.fc(x)\n",
        "        out = self.sigmoid(x)\n",
        "        return out"
      ],
      "execution_count": 27,
      "outputs": []
    },
    {
      "cell_type": "code",
      "metadata": {
        "id": "YnQ_JpFvRTAP"
      },
      "source": [
        "def m_step(model, x, y_true, lr=3e-4, n_iter=100):\n",
        "    model.fc.reset_parameters()\n",
        "    loss_func = nn.BCELoss()\n",
        "    opt = optim.Adam(model.parameters(), lr)\n",
        "\n",
        "    for i in range(n_iter):\n",
        "        opt.zero_grad()\n",
        "        y_pred = model(x)\n",
        "        loss = loss_func(y_pred, y_true)\n",
        "        loss.backward()\n",
        "        opt.step()"
      ],
      "execution_count": 28,
      "outputs": []
    },
    {
      "cell_type": "markdown",
      "metadata": {
        "id": "uahnS0uCR4zu"
      },
      "source": [
        "Обучим модель предсказывать событие $z_{ij}$, соответствующее тому, что игрок $i$ ответил на вопрос $j$.\n",
        "\n",
        "При этом будем пользоваться следующим предположением: если команда $t$ ответила на вопрос $j$ (событие $x_{tj}$), то и каждый её член ответил на этот вопрос, и наоборот, если команда не ответила на вопрос — значит, ни один её член не ответил на вопрос.\n",
        "\n",
        "Тогда:\n",
        "$$p(z_{ij}=1) = p(x_{tj}=1) = \\sigma(\\mu + S_i + q_j)$$\n",
        "\n",
        "Поскольку метки для $p(x_{tj}=1)$ имеются в нашем тренировочном наборе данных, можно приступать к моделированию."
      ]
    },
    {
      "cell_type": "code",
      "metadata": {
        "id": "Ipo5Snq7Sj_7"
      },
      "source": [
        "train_data = train_data.tocoo()\n",
        "\n",
        "x = torch.sparse.FloatTensor(\n",
        "    torch.LongTensor(np.vstack((train_data.row, train_data.col))),\n",
        "    torch.FloatTensor(train_data.data)\n",
        ")\n",
        "\n",
        "y = torch.FloatTensor(qa_data_df[\"answer_label\"].values).view(-1, 1)\n",
        "\n",
        "model = LogisticRegression(x.shape[1])"
      ],
      "execution_count": 29,
      "outputs": []
    },
    {
      "cell_type": "code",
      "metadata": {
        "id": "MJL-rQmHSxyq"
      },
      "source": [
        "m_step(model, x, y, lr=1, n_iter=100)"
      ],
      "execution_count": 30,
      "outputs": []
    },
    {
      "cell_type": "markdown",
      "metadata": {
        "id": "93kmETFURidw"
      },
      "source": [
        "Введём функцию для вывода топ-$n$ игроков на основании их силы, полученной из модели:"
      ]
    },
    {
      "cell_type": "code",
      "metadata": {
        "id": "DNM_3h9KyH4Y"
      },
      "source": [
        "def get_top_players(parameters, top_n=20):\n",
        "    player_weights = {}\n",
        "\n",
        "    for i, c in enumerate(encoder.get_feature_names()):\n",
        "        if c.startswith(\"x0_\"):\n",
        "            player_weights[int(c[3:])] = parameters[i]\n",
        "\n",
        "    top_players = sorted([(k, v) for k, v in player_weights.items()],\n",
        "                         reverse=True, key=lambda x: x[1])[:top_n]\n",
        "\n",
        "    df_top_players = {\n",
        "        \"player_id\": [],\n",
        "        \"surname\": [],\n",
        "        \"name\": [],\n",
        "        \"skill\": [],\n",
        "        \"place\": [],\n",
        "    }\n",
        "\n",
        "    for place, (id, skill) in enumerate(top_players):\n",
        "        df_top_players[\"player_id\"].append(id)\n",
        "        df_top_players[\"surname\"].append(players.at[id, \"surname\"])\n",
        "        df_top_players[\"name\"].append(players.at[id, \"name\"])\n",
        "        df_top_players[\"skill\"].append(skill)\n",
        "        df_top_players[\"place\"].append(place + 1)\n",
        "\n",
        "    df_top_players = pd.DataFrame(df_top_players)\n",
        "\n",
        "    return df_top_players"
      ],
      "execution_count": 31,
      "outputs": []
    },
    {
      "cell_type": "markdown",
      "metadata": {
        "id": "ZiZWLL47T6Xa"
      },
      "source": [
        "Сравним позиции игроков на основе полученного рейтинга с реальными позициями на дату 26 декабря 2019 года:"
      ]
    },
    {
      "cell_type": "code",
      "metadata": {
        "colab": {
          "base_uri": "https://localhost:8080/",
          "height": 669
        },
        "id": "t-G2M1oGWXya",
        "outputId": "78572ada-b439-4d40-cdf5-9c4623242dd6"
      },
      "source": [
        "df_top_players = get_top_players(model.fc.weight.data[0].numpy(), TOP_N)\n",
        "df_top_players"
      ],
      "execution_count": 32,
      "outputs": [
        {
          "output_type": "execute_result",
          "data": {
            "text/html": [
              "<div>\n",
              "<style scoped>\n",
              "    .dataframe tbody tr th:only-of-type {\n",
              "        vertical-align: middle;\n",
              "    }\n",
              "\n",
              "    .dataframe tbody tr th {\n",
              "        vertical-align: top;\n",
              "    }\n",
              "\n",
              "    .dataframe thead th {\n",
              "        text-align: right;\n",
              "    }\n",
              "</style>\n",
              "<table border=\"1\" class=\"dataframe\">\n",
              "  <thead>\n",
              "    <tr style=\"text-align: right;\">\n",
              "      <th></th>\n",
              "      <th>player_id</th>\n",
              "      <th>surname</th>\n",
              "      <th>name</th>\n",
              "      <th>skill</th>\n",
              "      <th>place</th>\n",
              "    </tr>\n",
              "  </thead>\n",
              "  <tbody>\n",
              "    <tr>\n",
              "      <th>0</th>\n",
              "      <td>27403</td>\n",
              "      <td>Руссо</td>\n",
              "      <td>Максим</td>\n",
              "      <td>3.369566</td>\n",
              "      <td>1</td>\n",
              "    </tr>\n",
              "    <tr>\n",
              "      <th>1</th>\n",
              "      <td>4270</td>\n",
              "      <td>Брутер</td>\n",
              "      <td>Александра</td>\n",
              "      <td>3.231219</td>\n",
              "      <td>2</td>\n",
              "    </tr>\n",
              "    <tr>\n",
              "      <th>2</th>\n",
              "      <td>28751</td>\n",
              "      <td>Семушин</td>\n",
              "      <td>Иван</td>\n",
              "      <td>3.183629</td>\n",
              "      <td>3</td>\n",
              "    </tr>\n",
              "    <tr>\n",
              "      <th>3</th>\n",
              "      <td>27822</td>\n",
              "      <td>Савченков</td>\n",
              "      <td>Михаил</td>\n",
              "      <td>3.106301</td>\n",
              "      <td>4</td>\n",
              "    </tr>\n",
              "    <tr>\n",
              "      <th>4</th>\n",
              "      <td>30270</td>\n",
              "      <td>Спешков</td>\n",
              "      <td>Сергей</td>\n",
              "      <td>3.028781</td>\n",
              "      <td>5</td>\n",
              "    </tr>\n",
              "    <tr>\n",
              "      <th>5</th>\n",
              "      <td>30152</td>\n",
              "      <td>Сорожкин</td>\n",
              "      <td>Артём</td>\n",
              "      <td>3.020688</td>\n",
              "      <td>6</td>\n",
              "    </tr>\n",
              "    <tr>\n",
              "      <th>6</th>\n",
              "      <td>40411</td>\n",
              "      <td>Кудинов</td>\n",
              "      <td>Дмитрий</td>\n",
              "      <td>3.017081</td>\n",
              "      <td>7</td>\n",
              "    </tr>\n",
              "    <tr>\n",
              "      <th>7</th>\n",
              "      <td>38175</td>\n",
              "      <td>Пилипенко</td>\n",
              "      <td>Максим</td>\n",
              "      <td>2.951325</td>\n",
              "      <td>8</td>\n",
              "    </tr>\n",
              "    <tr>\n",
              "      <th>8</th>\n",
              "      <td>20691</td>\n",
              "      <td>Мереминский</td>\n",
              "      <td>Станислав</td>\n",
              "      <td>2.920612</td>\n",
              "      <td>9</td>\n",
              "    </tr>\n",
              "    <tr>\n",
              "      <th>9</th>\n",
              "      <td>202410</td>\n",
              "      <td>Подюкова</td>\n",
              "      <td>Валентина</td>\n",
              "      <td>2.875072</td>\n",
              "      <td>10</td>\n",
              "    </tr>\n",
              "    <tr>\n",
              "      <th>10</th>\n",
              "      <td>18036</td>\n",
              "      <td>Левандовский</td>\n",
              "      <td>Михаил</td>\n",
              "      <td>2.865500</td>\n",
              "      <td>11</td>\n",
              "    </tr>\n",
              "    <tr>\n",
              "      <th>11</th>\n",
              "      <td>22799</td>\n",
              "      <td>Николенко</td>\n",
              "      <td>Сергей</td>\n",
              "      <td>2.838928</td>\n",
              "      <td>12</td>\n",
              "    </tr>\n",
              "    <tr>\n",
              "      <th>12</th>\n",
              "      <td>26089</td>\n",
              "      <td>Прокофьева</td>\n",
              "      <td>Ирина</td>\n",
              "      <td>2.830961</td>\n",
              "      <td>13</td>\n",
              "    </tr>\n",
              "    <tr>\n",
              "      <th>13</th>\n",
              "      <td>22935</td>\n",
              "      <td>Новиков</td>\n",
              "      <td>Илья</td>\n",
              "      <td>2.769022</td>\n",
              "      <td>14</td>\n",
              "    </tr>\n",
              "    <tr>\n",
              "      <th>14</th>\n",
              "      <td>34328</td>\n",
              "      <td>Царёв</td>\n",
              "      <td>Михаил</td>\n",
              "      <td>2.747463</td>\n",
              "      <td>15</td>\n",
              "    </tr>\n",
              "    <tr>\n",
              "      <th>15</th>\n",
              "      <td>12785</td>\n",
              "      <td>Ишин</td>\n",
              "      <td>Вадим</td>\n",
              "      <td>2.745231</td>\n",
              "      <td>16</td>\n",
              "    </tr>\n",
              "    <tr>\n",
              "      <th>16</th>\n",
              "      <td>87637</td>\n",
              "      <td>Саксонов</td>\n",
              "      <td>Антон</td>\n",
              "      <td>2.740691</td>\n",
              "      <td>17</td>\n",
              "    </tr>\n",
              "    <tr>\n",
              "      <th>17</th>\n",
              "      <td>18332</td>\n",
              "      <td>Либер</td>\n",
              "      <td>Александр</td>\n",
              "      <td>2.737519</td>\n",
              "      <td>18</td>\n",
              "    </tr>\n",
              "    <tr>\n",
              "      <th>18</th>\n",
              "      <td>21698</td>\n",
              "      <td>Мосягин</td>\n",
              "      <td>Александр</td>\n",
              "      <td>2.724644</td>\n",
              "      <td>19</td>\n",
              "    </tr>\n",
              "    <tr>\n",
              "      <th>19</th>\n",
              "      <td>74001</td>\n",
              "      <td>Мокин</td>\n",
              "      <td>Игорь</td>\n",
              "      <td>2.724489</td>\n",
              "      <td>20</td>\n",
              "    </tr>\n",
              "  </tbody>\n",
              "</table>\n",
              "</div>"
            ],
            "text/plain": [
              "    player_id       surname        name     skill  place\n",
              "0       27403         Руссо      Максим  3.369566      1\n",
              "1        4270        Брутер  Александра  3.231219      2\n",
              "2       28751       Семушин        Иван  3.183629      3\n",
              "3       27822     Савченков      Михаил  3.106301      4\n",
              "4       30270       Спешков      Сергей  3.028781      5\n",
              "5       30152      Сорожкин       Артём  3.020688      6\n",
              "6       40411       Кудинов     Дмитрий  3.017081      7\n",
              "7       38175     Пилипенко      Максим  2.951325      8\n",
              "8       20691   Мереминский   Станислав  2.920612      9\n",
              "9      202410      Подюкова   Валентина  2.875072     10\n",
              "10      18036  Левандовский      Михаил  2.865500     11\n",
              "11      22799     Николенко      Сергей  2.838928     12\n",
              "12      26089    Прокофьева       Ирина  2.830961     13\n",
              "13      22935       Новиков        Илья  2.769022     14\n",
              "14      34328         Царёв      Михаил  2.747463     15\n",
              "15      12785          Ишин       Вадим  2.745231     16\n",
              "16      87637      Саксонов       Антон  2.740691     17\n",
              "17      18332         Либер   Александр  2.737519     18\n",
              "18      21698       Мосягин   Александр  2.724644     19\n",
              "19      74001         Мокин       Игорь  2.724489     20"
            ]
          },
          "metadata": {
            "tags": []
          },
          "execution_count": 32
        }
      ]
    },
    {
      "cell_type": "code",
      "metadata": {
        "colab": {
          "base_uri": "https://localhost:8080/",
          "height": 669
        },
        "id": "pmk8tllAvIFg",
        "outputId": "2b365088-b2bb-4e7b-97f7-117aca63c729"
      },
      "source": [
        "df_real_top_players = pd.read_csv(\"/content/players-release-2019-12-26.csv\")\n",
        "\n",
        "df_real_top_players = df_real_top_players.rename(columns={\n",
        "    \" ИД\": \"player_id\",\n",
        "    \"Фамилия\": \"surname\",\n",
        "    \"Имя\": \"name\",\n",
        "    \"Место\": \"real_place\",\n",
        "    \"Рейтинг\": \"real_rating\",\n",
        "})[[\"player_id\", \"real_rating\", \"real_place\"]]\n",
        "\n",
        "df_real_top_players.head(TOP_N)"
      ],
      "execution_count": 33,
      "outputs": [
        {
          "output_type": "execute_result",
          "data": {
            "text/html": [
              "<div>\n",
              "<style scoped>\n",
              "    .dataframe tbody tr th:only-of-type {\n",
              "        vertical-align: middle;\n",
              "    }\n",
              "\n",
              "    .dataframe tbody tr th {\n",
              "        vertical-align: top;\n",
              "    }\n",
              "\n",
              "    .dataframe thead th {\n",
              "        text-align: right;\n",
              "    }\n",
              "</style>\n",
              "<table border=\"1\" class=\"dataframe\">\n",
              "  <thead>\n",
              "    <tr style=\"text-align: right;\">\n",
              "      <th></th>\n",
              "      <th>player_id</th>\n",
              "      <th>real_rating</th>\n",
              "      <th>real_place</th>\n",
              "    </tr>\n",
              "  </thead>\n",
              "  <tbody>\n",
              "    <tr>\n",
              "      <th>0</th>\n",
              "      <td>30152</td>\n",
              "      <td>14897</td>\n",
              "      <td>1</td>\n",
              "    </tr>\n",
              "    <tr>\n",
              "      <th>1</th>\n",
              "      <td>28751</td>\n",
              "      <td>14789</td>\n",
              "      <td>2</td>\n",
              "    </tr>\n",
              "    <tr>\n",
              "      <th>2</th>\n",
              "      <td>27822</td>\n",
              "      <td>14726</td>\n",
              "      <td>3</td>\n",
              "    </tr>\n",
              "    <tr>\n",
              "      <th>3</th>\n",
              "      <td>30270</td>\n",
              "      <td>14624</td>\n",
              "      <td>4</td>\n",
              "    </tr>\n",
              "    <tr>\n",
              "      <th>4</th>\n",
              "      <td>27403</td>\n",
              "      <td>14311</td>\n",
              "      <td>5</td>\n",
              "    </tr>\n",
              "    <tr>\n",
              "      <th>5</th>\n",
              "      <td>4270</td>\n",
              "      <td>14309</td>\n",
              "      <td>6</td>\n",
              "    </tr>\n",
              "    <tr>\n",
              "      <th>6</th>\n",
              "      <td>18332</td>\n",
              "      <td>14115</td>\n",
              "      <td>7</td>\n",
              "    </tr>\n",
              "    <tr>\n",
              "      <th>7</th>\n",
              "      <td>7008</td>\n",
              "      <td>13954</td>\n",
              "      <td>8</td>\n",
              "    </tr>\n",
              "    <tr>\n",
              "      <th>8</th>\n",
              "      <td>6212</td>\n",
              "      <td>13903</td>\n",
              "      <td>9</td>\n",
              "    </tr>\n",
              "    <tr>\n",
              "      <th>9</th>\n",
              "      <td>15456</td>\n",
              "      <td>13903</td>\n",
              "      <td>10</td>\n",
              "    </tr>\n",
              "    <tr>\n",
              "      <th>10</th>\n",
              "      <td>116713</td>\n",
              "      <td>13878</td>\n",
              "      <td>11</td>\n",
              "    </tr>\n",
              "    <tr>\n",
              "      <th>11</th>\n",
              "      <td>33620</td>\n",
              "      <td>13818</td>\n",
              "      <td>12</td>\n",
              "    </tr>\n",
              "    <tr>\n",
              "      <th>12</th>\n",
              "      <td>3207</td>\n",
              "      <td>13797</td>\n",
              "      <td>13</td>\n",
              "    </tr>\n",
              "    <tr>\n",
              "      <th>13</th>\n",
              "      <td>95884</td>\n",
              "      <td>13680</td>\n",
              "      <td>14</td>\n",
              "    </tr>\n",
              "    <tr>\n",
              "      <th>14</th>\n",
              "      <td>32901</td>\n",
              "      <td>13666</td>\n",
              "      <td>15</td>\n",
              "    </tr>\n",
              "    <tr>\n",
              "      <th>15</th>\n",
              "      <td>18036</td>\n",
              "      <td>13662</td>\n",
              "      <td>16</td>\n",
              "    </tr>\n",
              "    <tr>\n",
              "      <th>16</th>\n",
              "      <td>23321</td>\n",
              "      <td>13659</td>\n",
              "      <td>17</td>\n",
              "    </tr>\n",
              "    <tr>\n",
              "      <th>17</th>\n",
              "      <td>28689</td>\n",
              "      <td>13639</td>\n",
              "      <td>18</td>\n",
              "    </tr>\n",
              "    <tr>\n",
              "      <th>18</th>\n",
              "      <td>32458</td>\n",
              "      <td>13623</td>\n",
              "      <td>19</td>\n",
              "    </tr>\n",
              "    <tr>\n",
              "      <th>19</th>\n",
              "      <td>22799</td>\n",
              "      <td>13610</td>\n",
              "      <td>20</td>\n",
              "    </tr>\n",
              "  </tbody>\n",
              "</table>\n",
              "</div>"
            ],
            "text/plain": [
              "    player_id  real_rating  real_place\n",
              "0       30152        14897           1\n",
              "1       28751        14789           2\n",
              "2       27822        14726           3\n",
              "3       30270        14624           4\n",
              "4       27403        14311           5\n",
              "5        4270        14309           6\n",
              "6       18332        14115           7\n",
              "7        7008        13954           8\n",
              "8        6212        13903           9\n",
              "9       15456        13903          10\n",
              "10     116713        13878          11\n",
              "11      33620        13818          12\n",
              "12       3207        13797          13\n",
              "13      95884        13680          14\n",
              "14      32901        13666          15\n",
              "15      18036        13662          16\n",
              "16      23321        13659          17\n",
              "17      28689        13639          18\n",
              "18      32458        13623          19\n",
              "19      22799        13610          20"
            ]
          },
          "metadata": {
            "tags": []
          },
          "execution_count": 33
        }
      ]
    },
    {
      "cell_type": "code",
      "metadata": {
        "colab": {
          "base_uri": "https://localhost:8080/",
          "height": 669
        },
        "id": "rGuRpchw1hGe",
        "outputId": "6080ebd7-9ccd-4dc0-91ca-38c06e0147d4"
      },
      "source": [
        "df_top_players.join(df_real_top_players.set_index(\"player_id\"), on=\"player_id\") \\\n",
        "    .fillna(0) \\\n",
        "    .astype(dtype={\n",
        "        \"real_rating\": np.uint32,\n",
        "        \"real_place\": np.uint32\n",
        "    })"
      ],
      "execution_count": 34,
      "outputs": [
        {
          "output_type": "execute_result",
          "data": {
            "text/html": [
              "<div>\n",
              "<style scoped>\n",
              "    .dataframe tbody tr th:only-of-type {\n",
              "        vertical-align: middle;\n",
              "    }\n",
              "\n",
              "    .dataframe tbody tr th {\n",
              "        vertical-align: top;\n",
              "    }\n",
              "\n",
              "    .dataframe thead th {\n",
              "        text-align: right;\n",
              "    }\n",
              "</style>\n",
              "<table border=\"1\" class=\"dataframe\">\n",
              "  <thead>\n",
              "    <tr style=\"text-align: right;\">\n",
              "      <th></th>\n",
              "      <th>player_id</th>\n",
              "      <th>surname</th>\n",
              "      <th>name</th>\n",
              "      <th>skill</th>\n",
              "      <th>place</th>\n",
              "      <th>real_rating</th>\n",
              "      <th>real_place</th>\n",
              "    </tr>\n",
              "  </thead>\n",
              "  <tbody>\n",
              "    <tr>\n",
              "      <th>0</th>\n",
              "      <td>27403</td>\n",
              "      <td>Руссо</td>\n",
              "      <td>Максим</td>\n",
              "      <td>3.369566</td>\n",
              "      <td>1</td>\n",
              "      <td>14311</td>\n",
              "      <td>5</td>\n",
              "    </tr>\n",
              "    <tr>\n",
              "      <th>1</th>\n",
              "      <td>4270</td>\n",
              "      <td>Брутер</td>\n",
              "      <td>Александра</td>\n",
              "      <td>3.231219</td>\n",
              "      <td>2</td>\n",
              "      <td>14309</td>\n",
              "      <td>6</td>\n",
              "    </tr>\n",
              "    <tr>\n",
              "      <th>2</th>\n",
              "      <td>28751</td>\n",
              "      <td>Семушин</td>\n",
              "      <td>Иван</td>\n",
              "      <td>3.183629</td>\n",
              "      <td>3</td>\n",
              "      <td>14789</td>\n",
              "      <td>2</td>\n",
              "    </tr>\n",
              "    <tr>\n",
              "      <th>3</th>\n",
              "      <td>27822</td>\n",
              "      <td>Савченков</td>\n",
              "      <td>Михаил</td>\n",
              "      <td>3.106301</td>\n",
              "      <td>4</td>\n",
              "      <td>14726</td>\n",
              "      <td>3</td>\n",
              "    </tr>\n",
              "    <tr>\n",
              "      <th>4</th>\n",
              "      <td>30270</td>\n",
              "      <td>Спешков</td>\n",
              "      <td>Сергей</td>\n",
              "      <td>3.028781</td>\n",
              "      <td>5</td>\n",
              "      <td>14624</td>\n",
              "      <td>4</td>\n",
              "    </tr>\n",
              "    <tr>\n",
              "      <th>5</th>\n",
              "      <td>30152</td>\n",
              "      <td>Сорожкин</td>\n",
              "      <td>Артём</td>\n",
              "      <td>3.020688</td>\n",
              "      <td>6</td>\n",
              "      <td>14897</td>\n",
              "      <td>1</td>\n",
              "    </tr>\n",
              "    <tr>\n",
              "      <th>6</th>\n",
              "      <td>40411</td>\n",
              "      <td>Кудинов</td>\n",
              "      <td>Дмитрий</td>\n",
              "      <td>3.017081</td>\n",
              "      <td>7</td>\n",
              "      <td>5507</td>\n",
              "      <td>6879</td>\n",
              "    </tr>\n",
              "    <tr>\n",
              "      <th>7</th>\n",
              "      <td>38175</td>\n",
              "      <td>Пилипенко</td>\n",
              "      <td>Максим</td>\n",
              "      <td>2.951325</td>\n",
              "      <td>8</td>\n",
              "      <td>3445</td>\n",
              "      <td>11063</td>\n",
              "    </tr>\n",
              "    <tr>\n",
              "      <th>8</th>\n",
              "      <td>20691</td>\n",
              "      <td>Мереминский</td>\n",
              "      <td>Станислав</td>\n",
              "      <td>2.920612</td>\n",
              "      <td>9</td>\n",
              "      <td>12388</td>\n",
              "      <td>171</td>\n",
              "    </tr>\n",
              "    <tr>\n",
              "      <th>9</th>\n",
              "      <td>202410</td>\n",
              "      <td>Подюкова</td>\n",
              "      <td>Валентина</td>\n",
              "      <td>2.875072</td>\n",
              "      <td>10</td>\n",
              "      <td>0</td>\n",
              "      <td>0</td>\n",
              "    </tr>\n",
              "    <tr>\n",
              "      <th>10</th>\n",
              "      <td>18036</td>\n",
              "      <td>Левандовский</td>\n",
              "      <td>Михаил</td>\n",
              "      <td>2.865500</td>\n",
              "      <td>11</td>\n",
              "      <td>13662</td>\n",
              "      <td>16</td>\n",
              "    </tr>\n",
              "    <tr>\n",
              "      <th>11</th>\n",
              "      <td>22799</td>\n",
              "      <td>Николенко</td>\n",
              "      <td>Сергей</td>\n",
              "      <td>2.838928</td>\n",
              "      <td>12</td>\n",
              "      <td>13610</td>\n",
              "      <td>20</td>\n",
              "    </tr>\n",
              "    <tr>\n",
              "      <th>12</th>\n",
              "      <td>26089</td>\n",
              "      <td>Прокофьева</td>\n",
              "      <td>Ирина</td>\n",
              "      <td>2.830961</td>\n",
              "      <td>13</td>\n",
              "      <td>13302</td>\n",
              "      <td>36</td>\n",
              "    </tr>\n",
              "    <tr>\n",
              "      <th>13</th>\n",
              "      <td>22935</td>\n",
              "      <td>Новиков</td>\n",
              "      <td>Илья</td>\n",
              "      <td>2.769022</td>\n",
              "      <td>14</td>\n",
              "      <td>12308</td>\n",
              "      <td>192</td>\n",
              "    </tr>\n",
              "    <tr>\n",
              "      <th>14</th>\n",
              "      <td>34328</td>\n",
              "      <td>Царёв</td>\n",
              "      <td>Михаил</td>\n",
              "      <td>2.747463</td>\n",
              "      <td>15</td>\n",
              "      <td>12079</td>\n",
              "      <td>225</td>\n",
              "    </tr>\n",
              "    <tr>\n",
              "      <th>15</th>\n",
              "      <td>12785</td>\n",
              "      <td>Ишин</td>\n",
              "      <td>Вадим</td>\n",
              "      <td>2.745231</td>\n",
              "      <td>16</td>\n",
              "      <td>1613</td>\n",
              "      <td>16308</td>\n",
              "    </tr>\n",
              "    <tr>\n",
              "      <th>16</th>\n",
              "      <td>87637</td>\n",
              "      <td>Саксонов</td>\n",
              "      <td>Антон</td>\n",
              "      <td>2.740691</td>\n",
              "      <td>17</td>\n",
              "      <td>12573</td>\n",
              "      <td>136</td>\n",
              "    </tr>\n",
              "    <tr>\n",
              "      <th>17</th>\n",
              "      <td>18332</td>\n",
              "      <td>Либер</td>\n",
              "      <td>Александр</td>\n",
              "      <td>2.737519</td>\n",
              "      <td>18</td>\n",
              "      <td>14115</td>\n",
              "      <td>7</td>\n",
              "    </tr>\n",
              "    <tr>\n",
              "      <th>18</th>\n",
              "      <td>21698</td>\n",
              "      <td>Мосягин</td>\n",
              "      <td>Александр</td>\n",
              "      <td>2.724644</td>\n",
              "      <td>19</td>\n",
              "      <td>12689</td>\n",
              "      <td>113</td>\n",
              "    </tr>\n",
              "    <tr>\n",
              "      <th>19</th>\n",
              "      <td>74001</td>\n",
              "      <td>Мокин</td>\n",
              "      <td>Игорь</td>\n",
              "      <td>2.724489</td>\n",
              "      <td>20</td>\n",
              "      <td>12650</td>\n",
              "      <td>125</td>\n",
              "    </tr>\n",
              "  </tbody>\n",
              "</table>\n",
              "</div>"
            ],
            "text/plain": [
              "    player_id       surname        name  ...  place  real_rating  real_place\n",
              "0       27403         Руссо      Максим  ...      1        14311           5\n",
              "1        4270        Брутер  Александра  ...      2        14309           6\n",
              "2       28751       Семушин        Иван  ...      3        14789           2\n",
              "3       27822     Савченков      Михаил  ...      4        14726           3\n",
              "4       30270       Спешков      Сергей  ...      5        14624           4\n",
              "5       30152      Сорожкин       Артём  ...      6        14897           1\n",
              "6       40411       Кудинов     Дмитрий  ...      7         5507        6879\n",
              "7       38175     Пилипенко      Максим  ...      8         3445       11063\n",
              "8       20691   Мереминский   Станислав  ...      9        12388         171\n",
              "9      202410      Подюкова   Валентина  ...     10            0           0\n",
              "10      18036  Левандовский      Михаил  ...     11        13662          16\n",
              "11      22799     Николенко      Сергей  ...     12        13610          20\n",
              "12      26089    Прокофьева       Ирина  ...     13        13302          36\n",
              "13      22935       Новиков        Илья  ...     14        12308         192\n",
              "14      34328         Царёв      Михаил  ...     15        12079         225\n",
              "15      12785          Ишин       Вадим  ...     16         1613       16308\n",
              "16      87637      Саксонов       Антон  ...     17        12573         136\n",
              "17      18332         Либер   Александр  ...     18        14115           7\n",
              "18      21698       Мосягин   Александр  ...     19        12689         113\n",
              "19      74001         Мокин       Игорь  ...     20        12650         125\n",
              "\n",
              "[20 rows x 7 columns]"
            ]
          },
          "metadata": {
            "tags": []
          },
          "execution_count": 34
        }
      ]
    },
    {
      "cell_type": "markdown",
      "metadata": {
        "id": "ElQqMy-MUIjG"
      },
      "source": [
        "Как можно заметить, ранжирование некоторых игроков очень близко к реальному рейтингу, хотя доля игроков, отсутствуюших в реальном рейтинге, также велика."
      ]
    },
    {
      "cell_type": "markdown",
      "metadata": {
        "id": "lT_DX91_g_NR"
      },
      "source": [
        "## Часть 3"
      ]
    },
    {
      "cell_type": "markdown",
      "metadata": {
        "id": "cEBvjazBhAuP"
      },
      "source": [
        "### Задание"
      ]
    },
    {
      "cell_type": "markdown",
      "metadata": {
        "id": "r2UY7khXY4aw"
      },
      "source": [
        "Качество рейтинг-системы оценивается качеством предсказаний результатов турниров. Но сами повопросные результаты наши модели предсказывать вряд ли смогут, ведь неизвестно, насколько сложными окажутся вопросы в будущих турнирах; да и не нужны эти предсказания сами по себе. Поэтому:\n",
        " * предложите способ предсказать результаты нового турнира с известными составами, но неизвестными вопросами, в виде ранжирования команд;\n",
        " * в качестве метрики качества на тестовом наборе давайте считать ранговые корреляции Спирмена и Кендалла (их можно взять в пакете *scipy*) между реальным ранжированием в результатах турнира и предсказанным моделью, усреднённые по тестовому множеству турниров (для самопроверки: у меня средняя корреляция Спирмена на тестовом множестве 2020 года во всех моделях, включая baselines, получалась порядка 0.7-0.8, а корреляция Кендалла — порядка 0.5-0.6. Если у вас корреляции вышли за 0.9 или, наоборот, упали ниже 0.3, скорее всего где-то баг)."
      ]
    },
    {
      "cell_type": "markdown",
      "metadata": {
        "id": "9lwI9xSQhDR1"
      },
      "source": [
        "### Решение"
      ]
    },
    {
      "cell_type": "markdown",
      "metadata": {
        "id": "tt0Tv8n7TlVM"
      },
      "source": [
        "Силу команды будем трактовать как вероятность того, что хотя бы один её член ответит на вопрос средней сложности.\n",
        "\n",
        "$$\\displaystyle t_i = 1 - \\prod_{j=1}^{N}{(1 - \\sigma(\\mu + S_{ij} + q_{mean}))}$$\n",
        "\n",
        "где:<br>\n",
        "* $S_{ij}$ — сила игрока $j$ в команде $i$,\n",
        "* $N$ — количество игроков в команде $i$,\n",
        "* $q_{mean}$ — вопрос средней сложности,\n",
        "* $\\mu$ — глобальная константа."
      ]
    },
    {
      "cell_type": "markdown",
      "metadata": {
        "id": "VzMeOaSJiWjw"
      },
      "source": [
        "Функция для вычисления ранговых корреляций Спирмена и Кендалла:"
      ]
    },
    {
      "cell_type": "code",
      "metadata": {
        "id": "NaC2jioiWGlE"
      },
      "source": [
        "def calc_metrics(data, encoder, parameters, intercept):\n",
        "    player_weights = {}\n",
        "    count = 0\n",
        "    question_sum = 0\n",
        "    player_sum = 0\n",
        "    player_cnt = 0\n",
        "    for i, c in enumerate(encoder.get_feature_names()):\n",
        "        if c.startswith(\"x0_\"):\n",
        "            player_weights[int(c[3:])] = parameters[i]\n",
        "            player_sum += parameters[i]\n",
        "            player_cnt += 1\n",
        "        else:\n",
        "            question_sum += parameters[i]\n",
        "            count += 1\n",
        "    question_mean = question_sum / count\n",
        "    data[\"player_weights\"] = data[\"player_id\"].map(player_weights)\n",
        "    data[\"player_weights\"].fillna(player_sum / player_cnt, inplace=True)\n",
        "    data[\"players_proba\"] = data[\"player_weights\"].apply(\n",
        "        lambda x: 1 / (1 + np.exp(-(x + question_mean + intercept)))\n",
        "    )\n",
        "    probas = data.groupby([\"tournament_id\", \"team_id\"])[\"players_proba\"].apply(\n",
        "        lambda x: np.prod(1 - x)\n",
        "    )\n",
        "    position = data.groupby([\"tournament_id\", \"team_id\"])[\"position\"].first()\n",
        "    group_data = pd.concat([probas, position], axis=1)\n",
        "    group_data.sort_values([\"tournament_id\", \"players_proba\"],\n",
        "                           ascending=[True, True], inplace=True)\n",
        "    spearman = group_data.groupby(\"tournament_id\").apply(\n",
        "        lambda x: spearmanr(x[\"position\"], x[\"players_proba\"]).correlation\n",
        "    ).mean()\n",
        "    kendall = group_data.groupby(\"tournament_id\").apply(\n",
        "        lambda x: kendalltau(x[\"position\"], x[\"players_proba\"]).correlation\n",
        "    ).mean()\n",
        "    return spearman, kendall"
      ],
      "execution_count": 35,
      "outputs": []
    },
    {
      "cell_type": "code",
      "metadata": {
        "colab": {
          "base_uri": "https://localhost:8080/"
        },
        "id": "_OtAlPC5WT-D",
        "outputId": "e9f25f30-040b-4ff9-dcb9-958194dd6226"
      },
      "source": [
        "spearman, kendall = calc_metrics(test_df, encoder,\n",
        "                                 model.fc.weight.data[0].numpy(),\n",
        "                                 model.fc.bias.data[0].numpy())\n",
        "print(f\"Spearman: {spearman:.6f}\")\n",
        "print(f\"Kendall:  {kendall:.6f}\")"
      ],
      "execution_count": 36,
      "outputs": [
        {
          "output_type": "stream",
          "text": [
            "Spearman: 0.785901\n",
            "Kendall:  0.629029\n"
          ],
          "name": "stdout"
        }
      ]
    },
    {
      "cell_type": "markdown",
      "metadata": {
        "id": "mm_XlRTmhYXj"
      },
      "source": [
        "## Часть 4"
      ]
    },
    {
      "cell_type": "markdown",
      "metadata": {
        "id": "ySmXRw4shaBF"
      },
      "source": [
        "### Задание"
      ]
    },
    {
      "cell_type": "markdown",
      "metadata": {
        "id": "EB1_HAHeY7UK"
      },
      "source": [
        "Теперь главное: ЧГК — это всё-таки командная игра. Поэтому:\n",
        " * предложите способ учитывать то, что на вопрос отвечают сразу несколько игроков; скорее всего, понадобятся скрытые переменные; не стесняйтесь делать упрощающие предположения, но теперь переменные \"игрок X ответил на вопрос Y\" при условии данных должны стать зависимыми для игроков одной и той же команды;\n",
        " * разработайте EM-схему для обучения этой модели, реализуйте её в коде;\n",
        " * обучите несколько итераций, убедитесь, что целевые метрики со временем растут (скорее всего, ненамного, но расти должны), выберите лучшую модель, используя целевые метрики."
      ]
    },
    {
      "cell_type": "markdown",
      "metadata": {
        "id": "MXGz-d7MhcmL"
      },
      "source": [
        "### Решение"
      ]
    },
    {
      "cell_type": "markdown",
      "metadata": {
        "id": "3T11hF362wji"
      },
      "source": [
        "Предположим следующее:\n",
        "1. если хотя бы один из игроков команды ответил на вопрос, то и вся команда ответила на вопрос;\n",
        "2. если команда не ответила на вопрос, то и все её члены не ответили на вопрос;\n",
        "3. игроки отвечают на вопрос независимо.\n",
        "\n",
        "Теперь будем моделировать вероятность того, что игрок $i$ ответил на вопрос $j$, при условии, что команда игрока $i$ ответила на этот вопрос:\n",
        "$$p(z_{ij}=1|t_i=1)$$\n",
        "\n",
        "Согласно второму предположению, если команда не ответила на вопрос, то и ни один её игрок не ответил (либо команда отвергла правильный ответ, что в некотором смысле почти то же самое):\n",
        "$$p(z_{ij}=1|t_i=0) = 0$$\n",
        "\n",
        "В таком случае воспользуемся теоремой Байеса:\n",
        "$$\\displaystyle p(z_{ij}=1|t_i=1) = \\frac{p(t_i=1|z_{ij}=1)p(z_{ij}=1)}{p(t_i=1)}$$\n",
        "\n",
        "Мы знаем, что:\n",
        "* $p(t_i=1|z_{ij}=1) = 1$ согласно второму предположению выше;\n",
        "* $p(z_{ij}=1) = \\sigma(\\mu + S_i + q_j)$ — предсказание модели на $M$-шаге;\n",
        "* $\\displaystyle p(t_i=1) = 1 - \\prod_{k=1}^{N}{(1 - \\sigma(\\mu + S_{ik} + q_{j}))}$ — вероятность команды ответить на вопрос равна разности единицы и произведения вероятностей того, что каждый игрок команды не ответит на вопрос.\n",
        "\n",
        "Тогда:\n",
        "$$\\displaystyle p(z_{ij}=1|t_i=1) = \\frac{\\sigma(\\mu + S_i + q_j)}{1 - \\prod_{k=1}^{N}{(1 - \\sigma(\\mu + S_{ik} + q_{j}))}}$$\n",
        "\n",
        "Это и будет являться $E$-шагом. Реализуем его в коде:"
      ]
    },
    {
      "cell_type": "code",
      "metadata": {
        "id": "8QxOHrWO6ZB4"
      },
      "source": [
        "def e_step(data, predicts):\n",
        "    data[\"label\"] = predicts\n",
        "    data.loc[data[\"answer_label\"] == 0, \"label\"] = 0\n",
        "    idx = data[\"answer_label\"] == 1\n",
        "    sp = data.loc[idx].groupby([\"team_id\", \"question_id\"])[\"label\"].transform(\n",
        "        lambda x: 1 - np.prod(1 - x.values)\n",
        "    )\n",
        "    data.loc[idx, \"label\"] = data.loc[idx, \"label\"] / sp  \n",
        "    return data"
      ],
      "execution_count": 37,
      "outputs": []
    },
    {
      "cell_type": "code",
      "metadata": {
        "id": "Qn6yVtoF6eqi",
        "colab": {
          "base_uri": "https://localhost:8080/",
          "height": 439
        },
        "outputId": "b186dada-acd5-45e9-b2fd-474a0b184278"
      },
      "source": [
        "predicts = model(x).detach().numpy().ravel()\n",
        "\n",
        "spearman_metric = []\n",
        "kendall_metric = []\n",
        "\n",
        "for i in range(N_EPOCHS):\n",
        "    qa_data_df = e_step(qa_data_df, predicts)\n",
        "    y = torch.FloatTensor(qa_data_df[\"label\"].values).view(-1, 1)\n",
        "    m_step(model, x, y, lr=1, n_iter=100)\n",
        "    torch.save(model.state_dict(), f\"model_{i}.pth\")\n",
        "    predicts = model(x).detach().numpy().ravel()\n",
        "    spearman, kendall = calc_metrics(test_df, encoder,\n",
        "                                     model.fc.weight.data[0].numpy(),\n",
        "                                     model.fc.bias.data[0].numpy())\n",
        "    spearman_metric.append(spearman)\n",
        "    kendall_metric.append(kendall)\n",
        "    clear_output(True)\n",
        "    print(f\"Epoch: {i + 1}\")\n",
        "    print(f\"    Spearman: {spearman:.6f}\")\n",
        "    print(f\"    Kendall:  {kendall:.6f}\")\n",
        "    fig, ax = plt.subplots(1, 2, figsize=(12, 6))\n",
        "    ax[0].plot(spearman_metric)\n",
        "    ax[0].set_xlabel(\"Spearman\")\n",
        "    ax[1].plot(kendall_metric)\n",
        "    ax[1].set_xlabel(\"Kendall\")\n",
        "    plt.show()"
      ],
      "execution_count": 38,
      "outputs": [
        {
          "output_type": "stream",
          "text": [
            "Epoch: 10\n",
            "    Spearman: 0.801505\n",
            "    Kendall:  0.646276\n"
          ],
          "name": "stdout"
        },
        {
          "output_type": "display_data",
          "data": {
            "image/png": "[encoded data removed]",
            "text/plain": [
              "<Figure size 864x432 with 2 Axes>"
            ]
          },
          "metadata": {
            "tags": [],
            "needs_background": "light"
          }
        }
      ]
    },
    {
      "cell_type": "markdown",
      "metadata": {
        "id": "3O6tNkAjhiVv"
      },
      "source": [
        "## Часть 5"
      ]
    },
    {
      "cell_type": "markdown",
      "metadata": {
        "id": "Xb-5JIFhhjpb"
      },
      "source": [
        "### Задание"
      ]
    },
    {
      "cell_type": "markdown",
      "metadata": {
        "id": "6ZYnnv4-Y95E"
      },
      "source": [
        "А что там с вопросами? Постройте \"рейтинг-лист\" турниров по сложности вопросов. Соответствует ли он интуиции (например, на чемпионате мира в целом должны быть сложные вопросы, а на турнирах для школьников — простые)? *Если будет интересн*о: постройте топ сложных и простых вопросов со ссылками на конкретные записи в [базе вопросов ЧГК](http://db.chgk.info) (это чисто техническое дело, тут никакого ML нету)."
      ]
    },
    {
      "cell_type": "markdown",
      "metadata": {
        "id": "mGIO7RsjhlzL"
      },
      "source": [
        "### Решение"
      ]
    },
    {
      "cell_type": "markdown",
      "metadata": {
        "id": "b7zmqjxL65KZ"
      },
      "source": [
        "Для простоты будем считать, что сложность турнира — это средняя сложность вопросов в нём."
      ]
    },
    {
      "cell_type": "code",
      "metadata": {
        "id": "Py81tc8r6wA5"
      },
      "source": [
        "parameters = model.fc.weight.data[0].numpy()\n",
        "\n",
        "question_weights = {}\n",
        "for i, c in enumerate(encoder.get_feature_names()):\n",
        "    if c.startswith(\"x1_\"):\n",
        "        question_weights[c[3:]] = parameters[i]"
      ],
      "execution_count": 39,
      "outputs": []
    },
    {
      "cell_type": "code",
      "metadata": {
        "id": "yKnSuqZr6w6m"
      },
      "source": [
        "tournament_weights = qa_data_df.groupby(\"tournament_id\")[\"question_id\"] \\\n",
        "    .apply(lambda x: np.mean([question_weights[q] for q in x])) \\\n",
        "    .sort_values()"
      ],
      "execution_count": 40,
      "outputs": []
    },
    {
      "cell_type": "code",
      "metadata": {
        "id": "20nAYI-J9lrt"
      },
      "source": [
        "tournament_weights = tournament_weights.reset_index().rename(columns={\n",
        "    \"question\": \"difficulty\"\n",
        "})"
      ],
      "execution_count": 41,
      "outputs": []
    },
    {
      "cell_type": "code",
      "metadata": {
        "colab": {
          "base_uri": "https://localhost:8080/",
          "height": 686
        },
        "id": "2zw-DiJ594ea",
        "outputId": "4dc340c8-8386-4970-888a-039d20cae42d"
      },
      "source": [
        "print(f\"Top {TOP_N} most difficult tournaments:\")\n",
        "tournament_weights.head(TOP_N).merge(\n",
        "    tournaments[[\"id\", \"name\"]].set_index(\"id\"),\n",
        "    left_on=\"tournament_id\", right_on=\"id\",\n",
        ")"
      ],
      "execution_count": 42,
      "outputs": [
        {
          "output_type": "stream",
          "text": [
            "Top 20 most difficult tournaments:\n"
          ],
          "name": "stdout"
        },
        {
          "output_type": "execute_result",
          "data": {
            "text/html": [
              "<div>\n",
              "<style scoped>\n",
              "    .dataframe tbody tr th:only-of-type {\n",
              "        vertical-align: middle;\n",
              "    }\n",
              "\n",
              "    .dataframe tbody tr th {\n",
              "        vertical-align: top;\n",
              "    }\n",
              "\n",
              "    .dataframe thead th {\n",
              "        text-align: right;\n",
              "    }\n",
              "</style>\n",
              "<table border=\"1\" class=\"dataframe\">\n",
              "  <thead>\n",
              "    <tr style=\"text-align: right;\">\n",
              "      <th></th>\n",
              "      <th>tournament_id</th>\n",
              "      <th>question_id</th>\n",
              "      <th>name</th>\n",
              "    </tr>\n",
              "  </thead>\n",
              "  <tbody>\n",
              "    <tr>\n",
              "      <th>0</th>\n",
              "      <td>6149</td>\n",
              "      <td>-7.500016</td>\n",
              "      <td>Чемпионат Санкт-Петербурга. Первая лига</td>\n",
              "    </tr>\n",
              "    <tr>\n",
              "      <th>1</th>\n",
              "      <td>5717</td>\n",
              "      <td>-3.631883</td>\n",
              "      <td>Чемпионат Таджикистана</td>\n",
              "    </tr>\n",
              "    <tr>\n",
              "      <th>2</th>\n",
              "      <td>5928</td>\n",
              "      <td>-3.161070</td>\n",
              "      <td>Угрюмый Ёрш</td>\n",
              "    </tr>\n",
              "    <tr>\n",
              "      <th>3</th>\n",
              "      <td>5930</td>\n",
              "      <td>-3.116610</td>\n",
              "      <td>Зеркало мемориала памяти Михаила Басса</td>\n",
              "    </tr>\n",
              "    <tr>\n",
              "      <th>4</th>\n",
              "      <td>5684</td>\n",
              "      <td>-3.092730</td>\n",
              "      <td>Синхрон высшей лиги Москвы</td>\n",
              "    </tr>\n",
              "    <tr>\n",
              "      <th>5</th>\n",
              "      <td>6101</td>\n",
              "      <td>-3.085368</td>\n",
              "      <td>Воображаемый музей</td>\n",
              "    </tr>\n",
              "    <tr>\n",
              "      <th>6</th>\n",
              "      <td>5159</td>\n",
              "      <td>-2.926012</td>\n",
              "      <td>Первенство правого полушария</td>\n",
              "    </tr>\n",
              "    <tr>\n",
              "      <th>7</th>\n",
              "      <td>5943</td>\n",
              "      <td>-2.923144</td>\n",
              "      <td>Чемпионат Мира. Этап 2 Группа С</td>\n",
              "    </tr>\n",
              "    <tr>\n",
              "      <th>8</th>\n",
              "      <td>5942</td>\n",
              "      <td>-2.773703</td>\n",
              "      <td>Чемпионат Мира. Этап 2. Группа В</td>\n",
              "    </tr>\n",
              "    <tr>\n",
              "      <th>9</th>\n",
              "      <td>5532</td>\n",
              "      <td>-2.756274</td>\n",
              "      <td>Седьмая октава: Кубок Равноденствия. Лига Наци...</td>\n",
              "    </tr>\n",
              "    <tr>\n",
              "      <th>10</th>\n",
              "      <td>5947</td>\n",
              "      <td>-2.735167</td>\n",
              "      <td>Чемпионат Мира. Этап 3. Группа С</td>\n",
              "    </tr>\n",
              "    <tr>\n",
              "      <th>11</th>\n",
              "      <td>5427</td>\n",
              "      <td>-2.722572</td>\n",
              "      <td>День D</td>\n",
              "    </tr>\n",
              "    <tr>\n",
              "      <th>12</th>\n",
              "      <td>5929</td>\n",
              "      <td>-2.721989</td>\n",
              "      <td>Мемориал памяти Михаила Басса</td>\n",
              "    </tr>\n",
              "    <tr>\n",
              "      <th>13</th>\n",
              "      <td>5587</td>\n",
              "      <td>-2.636844</td>\n",
              "      <td>Записки охотника</td>\n",
              "    </tr>\n",
              "    <tr>\n",
              "      <th>14</th>\n",
              "      <td>6150</td>\n",
              "      <td>-2.598057</td>\n",
              "      <td>Чемпионат Санкт-Петербурга. Высшая лига</td>\n",
              "    </tr>\n",
              "    <tr>\n",
              "      <th>15</th>\n",
              "      <td>5940</td>\n",
              "      <td>-2.568086</td>\n",
              "      <td>Чемпионат Мира. Этап 1. Группа С</td>\n",
              "    </tr>\n",
              "    <tr>\n",
              "      <th>16</th>\n",
              "      <td>5693</td>\n",
              "      <td>-2.565639</td>\n",
              "      <td>Знание – Сила VI</td>\n",
              "    </tr>\n",
              "    <tr>\n",
              "      <th>17</th>\n",
              "      <td>5465</td>\n",
              "      <td>-2.563986</td>\n",
              "      <td>Чемпионат России</td>\n",
              "    </tr>\n",
              "    <tr>\n",
              "      <th>18</th>\n",
              "      <td>5950</td>\n",
              "      <td>-2.551963</td>\n",
              "      <td>Чемпионат Мира. Финал. Группа С</td>\n",
              "    </tr>\n",
              "    <tr>\n",
              "      <th>19</th>\n",
              "      <td>5941</td>\n",
              "      <td>-2.546957</td>\n",
              "      <td>Чемпионат Мира. Этап 2. Группа А</td>\n",
              "    </tr>\n",
              "  </tbody>\n",
              "</table>\n",
              "</div>"
            ],
            "text/plain": [
              "    tournament_id  ...                                               name\n",
              "0            6149  ...            Чемпионат Санкт-Петербурга. Первая лига\n",
              "1            5717  ...                             Чемпионат Таджикистана\n",
              "2            5928  ...                                        Угрюмый Ёрш\n",
              "3            5930  ...             Зеркало мемориала памяти Михаила Басса\n",
              "4            5684  ...                         Синхрон высшей лиги Москвы\n",
              "5            6101  ...                                 Воображаемый музей\n",
              "6            5159  ...                       Первенство правого полушария\n",
              "7            5943  ...                    Чемпионат Мира. Этап 2 Группа С\n",
              "8            5942  ...                   Чемпионат Мира. Этап 2. Группа В\n",
              "9            5532  ...  Седьмая октава: Кубок Равноденствия. Лига Наци...\n",
              "10           5947  ...                   Чемпионат Мира. Этап 3. Группа С\n",
              "11           5427  ...                                             День D\n",
              "12           5929  ...                      Мемориал памяти Михаила Басса\n",
              "13           5587  ...                                   Записки охотника\n",
              "14           6150  ...            Чемпионат Санкт-Петербурга. Высшая лига\n",
              "15           5940  ...                   Чемпионат Мира. Этап 1. Группа С\n",
              "16           5693  ...                                   Знание – Сила VI\n",
              "17           5465  ...                                   Чемпионат России\n",
              "18           5950  ...                    Чемпионат Мира. Финал. Группа С\n",
              "19           5941  ...                   Чемпионат Мира. Этап 2. Группа А\n",
              "\n",
              "[20 rows x 3 columns]"
            ]
          },
          "metadata": {
            "tags": []
          },
          "execution_count": 42
        }
      ]
    },
    {
      "cell_type": "code",
      "metadata": {
        "id": "kiK7GeXP7Nl5",
        "colab": {
          "base_uri": "https://localhost:8080/",
          "height": 686
        },
        "outputId": "13401f5d-0b54-4538-b973-a4407022fe53"
      },
      "source": [
        "print(f\"Top {TOP_N} least difficult tournaments:\")\n",
        "tournament_weights.tail(TOP_N).merge(\n",
        "    tournaments[[\"id\", \"name\"]].set_index(\"id\"),\n",
        "    left_on=\"tournament_id\", right_on=\"id\",\n",
        ")"
      ],
      "execution_count": 43,
      "outputs": [
        {
          "output_type": "stream",
          "text": [
            "Top 20 least difficult tournaments:\n"
          ],
          "name": "stdout"
        },
        {
          "output_type": "execute_result",
          "data": {
            "text/html": [
              "<div>\n",
              "<style scoped>\n",
              "    .dataframe tbody tr th:only-of-type {\n",
              "        vertical-align: middle;\n",
              "    }\n",
              "\n",
              "    .dataframe tbody tr th {\n",
              "        vertical-align: top;\n",
              "    }\n",
              "\n",
              "    .dataframe thead th {\n",
              "        text-align: right;\n",
              "    }\n",
              "</style>\n",
              "<table border=\"1\" class=\"dataframe\">\n",
              "  <thead>\n",
              "    <tr style=\"text-align: right;\">\n",
              "      <th></th>\n",
              "      <th>tournament_id</th>\n",
              "      <th>question_id</th>\n",
              "      <th>name</th>\n",
              "    </tr>\n",
              "  </thead>\n",
              "  <tbody>\n",
              "    <tr>\n",
              "      <th>0</th>\n",
              "      <td>5697</td>\n",
              "      <td>1.394509</td>\n",
              "      <td>Школьный Синхрон-lite. Выпуск 3.1</td>\n",
              "    </tr>\n",
              "    <tr>\n",
              "      <th>1</th>\n",
              "      <td>5601</td>\n",
              "      <td>1.398673</td>\n",
              "      <td>Межфакультетский кубок МГУ. Отбор №4</td>\n",
              "    </tr>\n",
              "    <tr>\n",
              "      <th>2</th>\n",
              "      <td>5702</td>\n",
              "      <td>1.400606</td>\n",
              "      <td>(а)Синхрон-lite. Лига старта. Эпизод IX</td>\n",
              "    </tr>\n",
              "    <tr>\n",
              "      <th>3</th>\n",
              "      <td>5535</td>\n",
              "      <td>1.412385</td>\n",
              "      <td>Кубок Тышкевичей</td>\n",
              "    </tr>\n",
              "    <tr>\n",
              "      <th>4</th>\n",
              "      <td>6254</td>\n",
              "      <td>1.448863</td>\n",
              "      <td>Школьная лига</td>\n",
              "    </tr>\n",
              "    <tr>\n",
              "      <th>5</th>\n",
              "      <td>5954</td>\n",
              "      <td>1.519255</td>\n",
              "      <td>Школьная лига. II тур.</td>\n",
              "    </tr>\n",
              "    <tr>\n",
              "      <th>6</th>\n",
              "      <td>5012</td>\n",
              "      <td>1.573815</td>\n",
              "      <td>Школьный Синхрон-lite. Выпуск 2.5</td>\n",
              "    </tr>\n",
              "    <tr>\n",
              "      <th>7</th>\n",
              "      <td>5388</td>\n",
              "      <td>1.609882</td>\n",
              "      <td>Олимпиада Приволжского федерального округа. Финал</td>\n",
              "    </tr>\n",
              "    <tr>\n",
              "      <th>8</th>\n",
              "      <td>5013</td>\n",
              "      <td>1.614798</td>\n",
              "      <td>(а)Синхрон-lite. Лига старта. Эпизод V</td>\n",
              "    </tr>\n",
              "    <tr>\n",
              "      <th>9</th>\n",
              "      <td>6003</td>\n",
              "      <td>1.626808</td>\n",
              "      <td>Второй тематический турнир имени Джоуи Триббиани</td>\n",
              "    </tr>\n",
              "    <tr>\n",
              "      <th>10</th>\n",
              "      <td>5000</td>\n",
              "      <td>1.676452</td>\n",
              "      <td>Чёрная Быль</td>\n",
              "    </tr>\n",
              "    <tr>\n",
              "      <th>11</th>\n",
              "      <td>5936</td>\n",
              "      <td>1.713929</td>\n",
              "      <td>Школьная лига. I тур.</td>\n",
              "    </tr>\n",
              "    <tr>\n",
              "      <th>12</th>\n",
              "      <td>5955</td>\n",
              "      <td>1.743202</td>\n",
              "      <td>Школьная лига. III тур.</td>\n",
              "    </tr>\n",
              "    <tr>\n",
              "      <th>13</th>\n",
              "      <td>5457</td>\n",
              "      <td>2.089455</td>\n",
              "      <td>Студенческий чемпионат Калининградской области</td>\n",
              "    </tr>\n",
              "    <tr>\n",
              "      <th>14</th>\n",
              "      <td>5636</td>\n",
              "      <td>2.144200</td>\n",
              "      <td>Кубок Закарпатья</td>\n",
              "    </tr>\n",
              "    <tr>\n",
              "      <th>15</th>\n",
              "      <td>6102</td>\n",
              "      <td>2.404256</td>\n",
              "      <td>One ring - async</td>\n",
              "    </tr>\n",
              "    <tr>\n",
              "      <th>16</th>\n",
              "      <td>5554</td>\n",
              "      <td>2.429158</td>\n",
              "      <td>Гран-при Славянки. Общий зачёт</td>\n",
              "    </tr>\n",
              "    <tr>\n",
              "      <th>17</th>\n",
              "      <td>5438</td>\n",
              "      <td>3.533114</td>\n",
              "      <td>Синхрон Лиги Разума</td>\n",
              "    </tr>\n",
              "    <tr>\n",
              "      <th>18</th>\n",
              "      <td>5827</td>\n",
              "      <td>4.808296</td>\n",
              "      <td>Шестой киевский марафон. Асинхрон</td>\n",
              "    </tr>\n",
              "    <tr>\n",
              "      <th>19</th>\n",
              "      <td>5963</td>\n",
              "      <td>5.439077</td>\n",
              "      <td>Асинхрон по South Park</td>\n",
              "    </tr>\n",
              "  </tbody>\n",
              "</table>\n",
              "</div>"
            ],
            "text/plain": [
              "    tournament_id  ...                                               name\n",
              "0            5697  ...                  Школьный Синхрон-lite. Выпуск 3.1\n",
              "1            5601  ...               Межфакультетский кубок МГУ. Отбор №4\n",
              "2            5702  ...            (а)Синхрон-lite. Лига старта. Эпизод IX\n",
              "3            5535  ...                                   Кубок Тышкевичей\n",
              "4            6254  ...                                      Школьная лига\n",
              "5            5954  ...                             Школьная лига. II тур.\n",
              "6            5012  ...                  Школьный Синхрон-lite. Выпуск 2.5\n",
              "7            5388  ...  Олимпиада Приволжского федерального округа. Финал\n",
              "8            5013  ...             (а)Синхрон-lite. Лига старта. Эпизод V\n",
              "9            6003  ...   Второй тематический турнир имени Джоуи Триббиани\n",
              "10           5000  ...                                        Чёрная Быль\n",
              "11           5936  ...                              Школьная лига. I тур.\n",
              "12           5955  ...                            Школьная лига. III тур.\n",
              "13           5457  ...     Студенческий чемпионат Калининградской области\n",
              "14           5636  ...                                   Кубок Закарпатья\n",
              "15           6102  ...                                   One ring - async\n",
              "16           5554  ...                     Гран-при Славянки. Общий зачёт\n",
              "17           5438  ...                                Синхрон Лиги Разума\n",
              "18           5827  ...                  Шестой киевский марафон. Асинхрон\n",
              "19           5963  ...                             Асинхрон по South Park\n",
              "\n",
              "[20 rows x 3 columns]"
            ]
          },
          "metadata": {
            "tags": []
          },
          "execution_count": 43
        }
      ]
    },
    {
      "cell_type": "markdown",
      "metadata": {
        "id": "JrlgHyDNWA_-"
      },
      "source": [
        "Как нетрудно заметить, самые сложные турниры состоят в основном из чемпионатов и игр высшей лиги, в то время как среди самых простых доминируют школьные и университетские игры, что соответствует базовой интуиции."
      ]
    },
    {
      "cell_type": "markdown",
      "metadata": {
        "id": "-KnUgDQnhnxB"
      },
      "source": [
        "## Часть 6"
      ]
    },
    {
      "cell_type": "markdown",
      "metadata": {
        "id": "Uh8LQLAchpE_"
      },
      "source": [
        "### Задание"
      ]
    },
    {
      "cell_type": "markdown",
      "metadata": {
        "id": "nqMJVXjFZBTz"
      },
      "source": [
        "*Бонус*: постройте топ игроков по предсказанной вашей моделью силе игры, а рядом с именами игроков напишите общее число вопросов, которое они сыграли. Скорее всего, вы увидите, что топ занят игроками, которые сыграли совсем мало вопросов, около 100 или даже меньше; если вы поищете их в [официальном рейтинге ЧГК](http://rating.chgk.info), вы увидите, что это какие-то непонятные ноунеймы (для самопроверки: а вот те игроки, кто сыграл от тысячи вопросов и больше и при этом всё равно попал в топ-100 весов модели, должны быть настоящими топовыми игроками из ведущих команд официального рейтинга. Если это не так, опять же, скорее всего где-то баг). В baseline-модели, скорее всего, такой эффект будет гораздо слабее.\n",
        "\n",
        " Это естественное свойство модели: за счёт EM-схемы влияние 1-2 удачно сыгранных турниров будет только усиливаться, потому что неудачных турниров, чтобы его компенсировать, у этих игроков нет. Более того, это не мешает метрикам качества, потому что если эти игроки сыграли всего 1-2 турнира в 2019-м, скорее всего они ничего или очень мало сыграли и в 2020, и их рейтинги никак не влияют на качество тестовых предсказаний. Но для реального рейтинга такое свойство, конечно, было бы крайне нежелательным. Давайте попробуем его исправить:\n",
        " * сначала жёстко: выберите разумную отсечку по числу вопросов, учитывая, что в одном турнире их обычно 30-50;\n",
        " * можно ли просто выбросить игроков, которые мало играли, и переобучить модель? почему? предложите, как нужно изменить модель, чтобы не учитывать слишком мало сыгравших, и переобучите модель;\n",
        " * но всё-таки это не слишком хорошее решение: если выбрать маленькую отсечку, будут ноунеймы в топе, а если большую, то получится, что у нового игрока слишком долго не будет рейтинга; скорее всего, никакой \"золотой середины\" тут не получится;\n",
        " * предложите более концептуальное решение для топа игроков в рейтинг-листе; если получится, реализуйте его на практике (за это уж точно будут серьёзные бонусные баллы)."
      ]
    },
    {
      "cell_type": "markdown",
      "metadata": {
        "id": "h6YrpSUxhrno"
      },
      "source": [
        "### Решение"
      ]
    },
    {
      "cell_type": "markdown",
      "metadata": {
        "id": "GC3Mc2vmoHYa"
      },
      "source": [
        "Посмотрим на количество вопросов, на которые ответил каждый игрок из топ-20, и количество турниров, в которых игрок поучаствовал:"
      ]
    },
    {
      "cell_type": "code",
      "metadata": {
        "id": "J6Lu6TG_7c7N"
      },
      "source": [
        "questions_per_player = qa_data_df \\\n",
        "    .groupby(\"player_id\")[\"question_id\"] \\\n",
        "    .nunique()\n",
        "\n",
        "tournaments_per_player = qa_data_df \\\n",
        "    .groupby(\"player_id\")[\"tournament_id\"] \\\n",
        "    .nunique()"
      ],
      "execution_count": 44,
      "outputs": []
    },
    {
      "cell_type": "code",
      "metadata": {
        "colab": {
          "base_uri": "https://localhost:8080/",
          "height": 669
        },
        "id": "ZDcpJSjhvqFi",
        "outputId": "cab6ce11-23c3-4b26-beb2-8849551aa1c3"
      },
      "source": [
        "df_top_players = get_top_players(model.fc.weight.data[0].numpy(), TOP_N)\n",
        "\n",
        "df_top_players[\"num_tournaments\"] = df_top_players[\"player_id\"].apply(\n",
        "    lambda x: tournaments_per_player[x]\n",
        ")\n",
        "\n",
        "df_top_players[\"num_questions\"] = df_top_players[\"player_id\"].apply(\n",
        "    lambda x: questions_per_player[x]\n",
        ")\n",
        "\n",
        "df_top_players"
      ],
      "execution_count": 45,
      "outputs": [
        {
          "output_type": "execute_result",
          "data": {
            "text/html": [
              "<div>\n",
              "<style scoped>\n",
              "    .dataframe tbody tr th:only-of-type {\n",
              "        vertical-align: middle;\n",
              "    }\n",
              "\n",
              "    .dataframe tbody tr th {\n",
              "        vertical-align: top;\n",
              "    }\n",
              "\n",
              "    .dataframe thead th {\n",
              "        text-align: right;\n",
              "    }\n",
              "</style>\n",
              "<table border=\"1\" class=\"dataframe\">\n",
              "  <thead>\n",
              "    <tr style=\"text-align: right;\">\n",
              "      <th></th>\n",
              "      <th>player_id</th>\n",
              "      <th>surname</th>\n",
              "      <th>name</th>\n",
              "      <th>skill</th>\n",
              "      <th>place</th>\n",
              "      <th>num_tournaments</th>\n",
              "      <th>num_questions</th>\n",
              "    </tr>\n",
              "  </thead>\n",
              "  <tbody>\n",
              "    <tr>\n",
              "      <th>0</th>\n",
              "      <td>38175</td>\n",
              "      <td>Пилипенко</td>\n",
              "      <td>Максим</td>\n",
              "      <td>3.250396</td>\n",
              "      <td>1</td>\n",
              "      <td>1</td>\n",
              "      <td>36</td>\n",
              "    </tr>\n",
              "    <tr>\n",
              "      <th>1</th>\n",
              "      <td>22474</td>\n",
              "      <td>Немец</td>\n",
              "      <td>Илья</td>\n",
              "      <td>3.117976</td>\n",
              "      <td>2</td>\n",
              "      <td>2</td>\n",
              "      <td>75</td>\n",
              "    </tr>\n",
              "    <tr>\n",
              "      <th>2</th>\n",
              "      <td>14996</td>\n",
              "      <td>Козлова</td>\n",
              "      <td>Ольга</td>\n",
              "      <td>2.660004</td>\n",
              "      <td>3</td>\n",
              "      <td>1</td>\n",
              "      <td>36</td>\n",
              "    </tr>\n",
              "    <tr>\n",
              "      <th>3</th>\n",
              "      <td>199963</td>\n",
              "      <td>Бровченко</td>\n",
              "      <td>Елена</td>\n",
              "      <td>2.645308</td>\n",
              "      <td>4</td>\n",
              "      <td>1</td>\n",
              "      <td>36</td>\n",
              "    </tr>\n",
              "    <tr>\n",
              "      <th>4</th>\n",
              "      <td>202410</td>\n",
              "      <td>Подюкова</td>\n",
              "      <td>Валентина</td>\n",
              "      <td>2.572643</td>\n",
              "      <td>5</td>\n",
              "      <td>1</td>\n",
              "      <td>36</td>\n",
              "    </tr>\n",
              "    <tr>\n",
              "      <th>5</th>\n",
              "      <td>40411</td>\n",
              "      <td>Кудинов</td>\n",
              "      <td>Дмитрий</td>\n",
              "      <td>2.472786</td>\n",
              "      <td>6</td>\n",
              "      <td>1</td>\n",
              "      <td>45</td>\n",
              "    </tr>\n",
              "    <tr>\n",
              "      <th>6</th>\n",
              "      <td>188876</td>\n",
              "      <td>Голудина</td>\n",
              "      <td>Мария</td>\n",
              "      <td>2.445972</td>\n",
              "      <td>7</td>\n",
              "      <td>1</td>\n",
              "      <td>36</td>\n",
              "    </tr>\n",
              "    <tr>\n",
              "      <th>7</th>\n",
              "      <td>33459</td>\n",
              "      <td>Фрайман</td>\n",
              "      <td>Феликс</td>\n",
              "      <td>2.434326</td>\n",
              "      <td>8</td>\n",
              "      <td>1</td>\n",
              "      <td>36</td>\n",
              "    </tr>\n",
              "    <tr>\n",
              "      <th>8</th>\n",
              "      <td>17750</td>\n",
              "      <td>Лазарева</td>\n",
              "      <td>Галина</td>\n",
              "      <td>2.357356</td>\n",
              "      <td>9</td>\n",
              "      <td>1</td>\n",
              "      <td>36</td>\n",
              "    </tr>\n",
              "    <tr>\n",
              "      <th>9</th>\n",
              "      <td>199114</td>\n",
              "      <td>Луконин</td>\n",
              "      <td>Дмитрий</td>\n",
              "      <td>2.302468</td>\n",
              "      <td>10</td>\n",
              "      <td>1</td>\n",
              "      <td>30</td>\n",
              "    </tr>\n",
              "    <tr>\n",
              "      <th>10</th>\n",
              "      <td>199111</td>\n",
              "      <td>Петров</td>\n",
              "      <td>Роман</td>\n",
              "      <td>2.302453</td>\n",
              "      <td>11</td>\n",
              "      <td>1</td>\n",
              "      <td>30</td>\n",
              "    </tr>\n",
              "    <tr>\n",
              "      <th>11</th>\n",
              "      <td>199113</td>\n",
              "      <td>Иоаннидис</td>\n",
              "      <td>Андриан</td>\n",
              "      <td>2.302445</td>\n",
              "      <td>12</td>\n",
              "      <td>1</td>\n",
              "      <td>30</td>\n",
              "    </tr>\n",
              "    <tr>\n",
              "      <th>12</th>\n",
              "      <td>199115</td>\n",
              "      <td>Королихин</td>\n",
              "      <td>Анатолий</td>\n",
              "      <td>2.302391</td>\n",
              "      <td>13</td>\n",
              "      <td>1</td>\n",
              "      <td>30</td>\n",
              "    </tr>\n",
              "    <tr>\n",
              "      <th>13</th>\n",
              "      <td>199112</td>\n",
              "      <td>Петров</td>\n",
              "      <td>Игорь</td>\n",
              "      <td>2.302382</td>\n",
              "      <td>14</td>\n",
              "      <td>1</td>\n",
              "      <td>30</td>\n",
              "    </tr>\n",
              "    <tr>\n",
              "      <th>14</th>\n",
              "      <td>5805</td>\n",
              "      <td>Войцеховская</td>\n",
              "      <td>Станислава</td>\n",
              "      <td>2.255985</td>\n",
              "      <td>15</td>\n",
              "      <td>1</td>\n",
              "      <td>60</td>\n",
              "    </tr>\n",
              "    <tr>\n",
              "      <th>15</th>\n",
              "      <td>196901</td>\n",
              "      <td>Прохоров</td>\n",
              "      <td>Константин</td>\n",
              "      <td>2.252435</td>\n",
              "      <td>16</td>\n",
              "      <td>1</td>\n",
              "      <td>36</td>\n",
              "    </tr>\n",
              "    <tr>\n",
              "      <th>16</th>\n",
              "      <td>30260</td>\n",
              "      <td>Спектор</td>\n",
              "      <td>Евгений</td>\n",
              "      <td>2.252245</td>\n",
              "      <td>17</td>\n",
              "      <td>8</td>\n",
              "      <td>266</td>\n",
              "    </tr>\n",
              "    <tr>\n",
              "      <th>17</th>\n",
              "      <td>12785</td>\n",
              "      <td>Ишин</td>\n",
              "      <td>Вадим</td>\n",
              "      <td>2.231230</td>\n",
              "      <td>18</td>\n",
              "      <td>1</td>\n",
              "      <td>60</td>\n",
              "    </tr>\n",
              "    <tr>\n",
              "      <th>18</th>\n",
              "      <td>132330</td>\n",
              "      <td>Шобанов</td>\n",
              "      <td>Андрей</td>\n",
              "      <td>2.115582</td>\n",
              "      <td>19</td>\n",
              "      <td>1</td>\n",
              "      <td>36</td>\n",
              "    </tr>\n",
              "    <tr>\n",
              "      <th>19</th>\n",
              "      <td>34328</td>\n",
              "      <td>Царёв</td>\n",
              "      <td>Михаил</td>\n",
              "      <td>2.096522</td>\n",
              "      <td>20</td>\n",
              "      <td>12</td>\n",
              "      <td>501</td>\n",
              "    </tr>\n",
              "  </tbody>\n",
              "</table>\n",
              "</div>"
            ],
            "text/plain": [
              "    player_id       surname        name  ...  place  num_tournaments  num_questions\n",
              "0       38175     Пилипенко      Максим  ...      1                1             36\n",
              "1       22474         Немец        Илья  ...      2                2             75\n",
              "2       14996       Козлова       Ольга  ...      3                1             36\n",
              "3      199963     Бровченко       Елена  ...      4                1             36\n",
              "4      202410      Подюкова   Валентина  ...      5                1             36\n",
              "5       40411       Кудинов     Дмитрий  ...      6                1             45\n",
              "6      188876      Голудина       Мария  ...      7                1             36\n",
              "7       33459       Фрайман      Феликс  ...      8                1             36\n",
              "8       17750      Лазарева      Галина  ...      9                1             36\n",
              "9      199114       Луконин     Дмитрий  ...     10                1             30\n",
              "10     199111        Петров       Роман  ...     11                1             30\n",
              "11     199113     Иоаннидис     Андриан  ...     12                1             30\n",
              "12     199115     Королихин    Анатолий  ...     13                1             30\n",
              "13     199112        Петров       Игорь  ...     14                1             30\n",
              "14       5805  Войцеховская  Станислава  ...     15                1             60\n",
              "15     196901      Прохоров  Константин  ...     16                1             36\n",
              "16      30260       Спектор     Евгений  ...     17                8            266\n",
              "17      12785          Ишин       Вадим  ...     18                1             60\n",
              "18     132330       Шобанов      Андрей  ...     19                1             36\n",
              "19      34328         Царёв      Михаил  ...     20               12            501\n",
              "\n",
              "[20 rows x 7 columns]"
            ]
          },
          "metadata": {
            "tags": []
          },
          "execution_count": 45
        }
      ]
    },
    {
      "cell_type": "code",
      "metadata": {
        "id": "b0FHj4Kb07yZ"
      },
      "source": [
        "qa_data_df = qa_data.copy()"
      ],
      "execution_count": 46,
      "outputs": []
    },
    {
      "cell_type": "code",
      "metadata": {
        "id": "LbFMQYPavma-"
      },
      "source": [
        "qa_data_df[\"num_tournaments\"] = qa_data_df[\"player_id\"].apply(\n",
        "    lambda x: tournaments_per_player[x]\n",
        ")\n",
        "\n",
        "qa_data_df[\"num_questions\"] = qa_data_df[\"player_id\"].apply(\n",
        "    lambda x: questions_per_player[x]\n",
        ")"
      ],
      "execution_count": 47,
      "outputs": []
    },
    {
      "cell_type": "code",
      "metadata": {
        "colab": {
          "base_uri": "https://localhost:8080/"
        },
        "id": "7ahXB4iQpyq8",
        "outputId": "69b18b0e-7a28-474c-df0f-2e21f813d6b1"
      },
      "source": [
        "questions_threshold = qa_data_df[\"num_questions\"].quantile(0.2)\n",
        "questions_threshold"
      ],
      "execution_count": 48,
      "outputs": [
        {
          "output_type": "execute_result",
          "data": {
            "text/plain": [
              "285.0"
            ]
          },
          "metadata": {
            "tags": []
          },
          "execution_count": 48
        }
      ]
    },
    {
      "cell_type": "markdown",
      "metadata": {
        "id": "a4rtE5wUcyPF"
      },
      "source": [
        "Такой порог будет соответствовать необходимости отыграть примерно 6-10 турниров. Это довольно много, но давайте посмотрим, что произойдёт с поведением модели."
      ]
    },
    {
      "cell_type": "code",
      "metadata": {
        "id": "tjOj6-5Bv4Ts"
      },
      "source": [
        "qa_data_df = qa_data_df[qa_data_df[\"num_questions\"] > questions_threshold]"
      ],
      "execution_count": 49,
      "outputs": []
    },
    {
      "cell_type": "code",
      "metadata": {
        "colab": {
          "base_uri": "https://localhost:8080/"
        },
        "id": "UF4Cb3lXwBHB",
        "outputId": "e87c343a-4463-418a-e95e-03a5eb6fa5b4"
      },
      "source": [
        "qa_data_df.shape"
      ],
      "execution_count": 50,
      "outputs": [
        {
          "output_type": "execute_result",
          "data": {
            "text/plain": [
              "(14185333, 7)"
            ]
          },
          "metadata": {
            "tags": []
          },
          "execution_count": 50
        }
      ]
    },
    {
      "cell_type": "code",
      "metadata": {
        "id": "nRNG6x_iwTKx"
      },
      "source": [
        "encoder = OneHotEncoder()\n",
        "\n",
        "train_data = encoder.fit_transform(\n",
        "    qa_data_df[[\"player_id\", \"question_id\"]]\n",
        ")"
      ],
      "execution_count": 51,
      "outputs": []
    },
    {
      "cell_type": "code",
      "metadata": {
        "id": "djHgxZ5-wgIN"
      },
      "source": [
        "train_data = train_data.tocoo()\n",
        "\n",
        "x = torch.sparse.FloatTensor(\n",
        "    torch.LongTensor(np.vstack((train_data.row, train_data.col))),\n",
        "    torch.FloatTensor(train_data.data)\n",
        ")\n",
        "\n",
        "y = torch.FloatTensor(qa_data_df[\"answer_label\"].values).view(-1, 1)\n",
        "\n",
        "model = LogisticRegression(x.shape[1])"
      ],
      "execution_count": 52,
      "outputs": []
    },
    {
      "cell_type": "code",
      "metadata": {
        "colab": {
          "base_uri": "https://localhost:8080/",
          "height": 439
        },
        "id": "0ktBUDXxwj0s",
        "outputId": "79a9e048-7bd8-4c6b-e2dc-42f105f3ead6"
      },
      "source": [
        "predicts = model(x).detach().numpy().ravel()\n",
        "\n",
        "spearman_metric = []\n",
        "kendall_metric = []\n",
        "\n",
        "for i in range(N_EPOCHS):\n",
        "    qa_data_df = e_step(qa_data_df, predicts)\n",
        "    y = torch.FloatTensor(qa_data_df[\"label\"].values).view(-1, 1)\n",
        "    m_step(model, x, y, lr=1, n_iter=100)\n",
        "    torch.save(model.state_dict(), f\"model_filtered_{i}.pth\")\n",
        "    predicts = model(x).detach().numpy().ravel()\n",
        "    spearman, kendall = calc_metrics(test_df, encoder,\n",
        "                                     model.fc.weight.data[0].numpy(),\n",
        "                                     model.fc.bias.data[0].numpy())\n",
        "    spearman_metric.append(spearman)\n",
        "    kendall_metric.append(kendall)\n",
        "    clear_output(True)\n",
        "    print(f\"Epoch: {i + 1}\")\n",
        "    print(f\"    Spearman: {spearman:.6f}\")\n",
        "    print(f\"    Kendall:  {kendall:.6f}\")\n",
        "    fig, ax = plt.subplots(1, 2, figsize=(12, 6))\n",
        "    ax[0].plot(spearman_metric)\n",
        "    ax[0].set_xlabel(\"Spearman\")\n",
        "    ax[1].plot(kendall_metric)\n",
        "    ax[1].set_xlabel(\"Kendall\")\n",
        "    plt.show()"
      ],
      "execution_count": 53,
      "outputs": [
        {
          "output_type": "stream",
          "text": [
            "Epoch: 10\n",
            "    Spearman: 0.676025\n",
            "    Kendall:  0.533902\n"
          ],
          "name": "stdout"
        },
        {
          "output_type": "display_data",
          "data": {
            "image/png": "[encoded data removed]",
            "text/plain": [
              "<Figure size 864x432 with 2 Axes>"
            ]
          },
          "metadata": {
            "tags": [],
            "needs_background": "light"
          }
        }
      ]
    },
    {
      "cell_type": "markdown",
      "metadata": {
        "id": "7_BT6s-hdals"
      },
      "source": [
        "Как и ожидалось, метрики модели значительно ухудшились."
      ]
    },
    {
      "cell_type": "markdown",
      "metadata": {
        "id": "nzxjXnXahtBg"
      },
      "source": [
        "## Часть 7"
      ]
    },
    {
      "cell_type": "markdown",
      "metadata": {
        "id": "Utli11ahhuVy"
      },
      "source": [
        "### Задание"
      ]
    },
    {
      "cell_type": "markdown",
      "metadata": {
        "id": "IDI0KFZNHulk"
      },
      "source": [
        "*Бонус*: игроки со временем учатся играть лучше (а иногда бывает и наоборот). А в нашей модели получается, что первые неудачные турниры новичка будут тянуть его рейтинг вниз всю жизнь — это нехорошо, рейтинг должен быть достаточно гибким и иметь возможность меняться даже у игроков, отыгравших сотни турниров. Давайте попробуем этого добиться:\n",
        " * если хватит вычислительных ресурсов, сначала сделайте baseline совсем без таких схем, обучив рейтинги на всех турнирах с повопросными результатами, а не только на турнирах 2019 года; улучшилось ли качество предсказаний на 2020?\n",
        " * одну схему со временем мы уже использовали: брали для обучения только последний год турниров; примерно так делают, например, в теннисной чемпионской гонке; у этой схемы есть свои преимущества, но есть и недостатки (например, достаточно мало играть год, чтобы полностью пропасть из рейтинга);\n",
        " * предложите варианты базовой модели или алгоритма её обучения, которые могли бы реализовать изменения рейтинга со временем; если получится, реализуйте их на практике, проверьте, улучшатся ли предсказания на 2020."
      ]
    },
    {
      "cell_type": "markdown",
      "metadata": {
        "id": "RRRb6zDehxuc"
      },
      "source": [
        "### Решение"
      ]
    },
    {
      "cell_type": "code",
      "metadata": {
        "id": "SOzGdmI0nLAu"
      },
      "source": [
        ""
      ],
      "execution_count": 53,
      "outputs": []
    }
  ]
}