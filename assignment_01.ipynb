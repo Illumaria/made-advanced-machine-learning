{
  "nbformat": 4,
  "nbformat_minor": 0,
  "metadata": {
    "colab": {
      "name": "adv_ml_1.ipynb",
      "provenance": [],
      "collapsed_sections": [],
      "toc_visible": true
    },
    "kernelspec": {
      "name": "python3",
      "display_name": "Python 3"
    }
  },
  "cells": [
    {
      "cell_type": "markdown",
      "metadata": {
        "id": "NY1WXqUVJ7Gv"
      },
      "source": [
        "# Продвинутое машинное обучение: ДЗ 1"
      ]
    },
    {
      "cell_type": "markdown",
      "metadata": {
        "id": "9qMBSgSatR3X"
      },
      "source": [
        "Первое ДЗ состоит из двух частей: первая часть про теорему Байеса и общие вероятностные рассуждения, вторая часть — про линейную регрессию. **В качестве решения ожидается ссылка на jupyter-ноутбук на вашем github (или публичный, или с доступом для пользователя snikolenko). Решение обязательно нужно сдать на портале Академии.**"
      ]
    },
    {
      "cell_type": "markdown",
      "metadata": {
        "id": "AiTVVkPPKHsv"
      },
      "source": [
        "# Импорт библиотек"
      ]
    },
    {
      "cell_type": "code",
      "metadata": {
        "id": "5jCFR9QGKM1y"
      },
      "source": [
        "from datetime import datetime\r\n",
        "\r\n",
        "import matplotlib.pyplot as plt\r\n",
        "import numpy as np\r\n",
        "import pandas as pd\r\n",
        "from scipy.stats import multivariate_normal\r\n",
        "import seaborn as sns\r\n",
        "from sklearn.decomposition import PCA\r\n",
        "from sklearn.linear_model import LinearRegression, Ridge\r\n",
        "from sklearn.pipeline import make_pipeline\r\n",
        "from sklearn.preprocessing import StandardScaler"
      ],
      "execution_count": 1,
      "outputs": []
    },
    {
      "cell_type": "code",
      "metadata": {
        "id": "rMVxoqETKPi8"
      },
      "source": [
        "sns.set_style(\"whitegrid\")\r\n",
        "sns.set_palette(\"colorblind\")\r\n",
        "palette = sns.color_palette()\r\n",
        "figsize = (16, 8)\r\n",
        "legend_fontsize = 16"
      ],
      "execution_count": 2,
      "outputs": []
    },
    {
      "cell_type": "markdown",
      "metadata": {
        "id": "CYtyit0D00wc"
      },
      "source": [
        "# Часть I: О теореме Байеса"
      ]
    },
    {
      "cell_type": "markdown",
      "metadata": {
        "id": "uX6-MFhy2FBj"
      },
      "source": [
        "Первая часть состоит из двух вопросов и одного задания. Смысл её в том, чтобы провести вероятностные рассуждения в ситуациях, когда модель сама по себе очень простая, но её ещё надо правильно построить, правильно отобразить жизненную ситуацию. Поэтому на первые два вопроса рекомендую давать развёрнутые ответы; эти ответы лучше писать прямо в ноутбуке, LaTeX в Jupyter работает на вполне достаточном для нас уровне."
      ]
    },
    {
      "cell_type": "markdown",
      "metadata": {
        "id": "QtNrQSxPLNjj"
      },
      "source": [
        "## 1.1"
      ]
    },
    {
      "cell_type": "markdown",
      "metadata": {
        "id": "Vdhi89KlldG5"
      },
      "source": [
        "### Вопрос"
      ]
    },
    {
      "cell_type": "markdown",
      "metadata": {
        "id": "_i17W-xeK1KT"
      },
      "source": [
        "Произошло убийство. На месте убийства найдена кровь, которая явно (будем считать, что с вероятностью 1) принадлежит настоящему убийце. Кровь принадлежит редкой группе, которая присутствует всего лишь у 1% населения. И так получилось, что у подсудимого как раз эта редкая группа крови! Первым выходит прокурор и говорит: “Шанс, что у подсудимого была бы именно такая группа крови, если бы он был невиновен — всего 1%; значит, с вероятностью 99% он виновен, предлагаю осудить”. В чём не прав прокурор? Укажите, какие вероятности он оценил, а какие должен был оценить."
      ]
    },
    {
      "cell_type": "markdown",
      "metadata": {
        "id": "mIK2tQP3K9Cq"
      },
      "source": [
        "### Ответ"
      ]
    },
    {
      "cell_type": "markdown",
      "metadata": {
        "id": "62EJnK9rqgWp"
      },
      "source": [
        "Пусть событие $g$ соответствует тому, что случайный человек является виновным, а событие $b$ — тому, что кровь случайного человека принадлежит редкой группе. Тогда для суждения о виновности подсудимого необходимо оценивать вероятность $p(g|b)$.\r\n",
        "\r\n",
        "Прокурор же сделал следующие предположения:\r\n",
        "1. $p(b | \\overline g) = 0.01$, что примерно верно, если учесть, что из одного процента людей, имеющих такую группу крови, виновен должен быть всего один человек;\r\n",
        "2. $p(g | b) = 1 - p(b | \\overline g) = 0.99$, что является полной ерундой. На самом деле $1 - p(b | \\overline g) = p(\\overline b | \\overline g)$ является вероятностью отсутствия данной редкой группы крови у случайного человека при условии его невиновности. Прокурору следовало оценить вероятность $p(\\overline g | b)$, тогда вероятность $1 - p(\\overline g | b) = p(g | b)$ была бы искомой величиной."
      ]
    },
    {
      "cell_type": "markdown",
      "metadata": {
        "id": "POScJzPsUcDG"
      },
      "source": [
        "## 1.2"
      ]
    },
    {
      "cell_type": "markdown",
      "metadata": {
        "id": "cHLilxyMUia4"
      },
      "source": [
        "### Вопрос"
      ]
    },
    {
      "cell_type": "markdown",
      "metadata": {
        "id": "K8MO0NS1Uu6A"
      },
      "source": [
        "Затем выходит адвокат, объясняет ошибки прокурора и берёт слово сам: “В городе живёт миллион человек. Это значит, что примерно у 10000 из них такая группа крови. Значит, всё, что говорит нам эта кровь — это то, что подсудимый совершил убийство с вероятностью 0,01%. Получается, что это свидетельство не просто не является строгим доказательством, а и вовсе даёт нам ничтожно малую вероятность того, что мой подзащитный виновен, так что предлагаю исключить его из материалов дела”. В чём не прав адвокат? Какие вероятности он оценил, а какие должен был оценить?"
      ]
    },
    {
      "cell_type": "markdown",
      "metadata": {
        "id": "SEISfHKAUpwY"
      },
      "source": [
        "### Ответ"
      ]
    },
    {
      "cell_type": "markdown",
      "metadata": {
        "id": "JeQIAXQQUwhV"
      },
      "source": [
        "Адвокат утверждает следующее:\r\n",
        "1. $p(b) = 0.01$ (верно, согласно условию);\r\n",
        "2. $\\displaystyle p(g|b) = \\frac{1}{n}$, где $n = 10^4$ — число жителей с редкой группой крови. То есть адвокат предположил равномерное априорное распределение вероятности убийства случайным человеком ($\\displaystyle p(g) = \\frac{1}{N}$, где $N = 10^6$ — общее число жителей), и получил следующее:\r\n",
        "\r\n",
        "$$\\displaystyle p(g|b) = \\frac{p(b|g) * p(g)}{p(b)} = \\frac{1 * 10^{-6}}{0.01} = 10^{-4}$$\r\n",
        "\r\n",
        "где $p(b|g) = 1$ согласно условию.\r\n",
        "\r\n",
        "Естественно, такое предположение об априорной вероятности убийства случайным человеком в корне неверно."
      ]
    },
    {
      "cell_type": "markdown",
      "metadata": {
        "id": "OcUlp0iK2NEm"
      },
      "source": [
        "## 1.3"
      ]
    },
    {
      "cell_type": "markdown",
      "metadata": {
        "id": "dSX_-Sff2T-r"
      },
      "source": [
        "### Вопрос"
      ]
    },
    {
      "cell_type": "markdown",
      "metadata": {
        "id": "ZW-PDKg02hyy"
      },
      "source": [
        "Вернёмся к тесту на страшную болезнь из первой лекции. Напомню, что по предположениям задачи болеет 1% населения, а тест имеет вероятность ошибки 5% в обе стороны. Мы видели, что в результате человек с положительным тестом имеет апостериорную вероятность оказаться больным всего лишь около 16%.\r\n",
        "\r\n",
        "Врачи решили, что терпеть это никак нельзя; они готовы провести срочное исследование и улучшить качество теста. Но сил и денег хватит только для того, чтобы сократить один тип ошибок, то есть уменьшить или только число false positives (когда тест выдаёт положительный результат у здорового человека), или только число false negatives (когда тест выдаёт отрицательный результат у больного).\r\n",
        "\r\n",
        "Помогите медикам: постройте зависимости апостериорной вероятности болезни после положительного и отрицательного теста от обоих видов ошибок (например, в виде графиков), сделайте выводы и дайте рекомендации врачам — на чём лучше сосредоточиться?"
      ]
    },
    {
      "cell_type": "markdown",
      "metadata": {
        "id": "QfJOhY9J2WIm"
      },
      "source": [
        "### Ответ"
      ]
    },
    {
      "cell_type": "code",
      "metadata": {
        "id": "YGJ5v4Cy2-HP"
      },
      "source": [
        "sick_rate = 0.01  # sick people rate\r\n",
        "healthy_rate = 1 - sick_rate  # healthy people rate\r\n",
        "fpr = 0.05  # false positive rate\r\n",
        "fnr = 0.05  # false negative rate\r\n",
        "# tpr = 1 - fnr  # true positive rate\r\n",
        "# tnr = 1 - fpr  # true negative rate"
      ],
      "execution_count": 3,
      "outputs": []
    },
    {
      "cell_type": "code",
      "metadata": {
        "id": "Fr2ogqPD3vyT"
      },
      "source": [
        "def posterior_pos_test(fpr: float = 0.05, fnr: float = 0.05):\r\n",
        "    \"\"\"\r\n",
        "    Calculate posterior probability of sickness given\r\n",
        "    a positive test result:\r\n",
        "    p(sick | pos_test) = p(pos_test | sick) * p(sick) / p(pos_test) = \r\n",
        "    p(pos_test | sick) * p(sick) / (p(pos_test | sick) * p(sick) +\r\n",
        "    p(pos_test | healthy) * p(healthy))\r\n",
        "    \"\"\"\r\n",
        "    tpr = 1 - fnr\r\n",
        "    return tpr * sick_rate / (tpr * sick_rate + fpr * (1 - sick_rate))"
      ],
      "execution_count": 4,
      "outputs": []
    },
    {
      "cell_type": "code",
      "metadata": {
        "colab": {
          "base_uri": "https://localhost:8080/",
          "height": 513
        },
        "id": "KaS9KfYY4jOz",
        "outputId": "1213db0f-443e-421e-c1f2-bf4d4e9681c5"
      },
      "source": [
        "x = np.linspace(0.00, 0.05, 101)  # the error can change from 0 to 0.05\r\n",
        "\r\n",
        "plt.figure(figsize=figsize)\r\n",
        "plt.title(\"Posterior probability of sickness given a positive test result\")\r\n",
        "plt.plot(x, posterior_pos_test(fpr=x), label=\"False positive rate\")\r\n",
        "plt.plot(x, posterior_pos_test(fnr=x), label=\"False negative rate\")\r\n",
        "plt.xlabel(\"Error rate\")\r\n",
        "plt.ylabel(\"Probability\")\r\n",
        "plt.grid(True)\r\n",
        "plt.legend(fontsize=legend_fontsize);"
      ],
      "execution_count": 5,
      "outputs": [
        {
          "output_type": "display_data",
          "data": {
            "image/png": "[encoded data removed]",
            "text/plain": [
              "<Figure size 1152x576 with 1 Axes>"
            ]
          },
          "metadata": {
            "tags": []
          }
        }
      ]
    },
    {
      "cell_type": "markdown",
      "metadata": {
        "id": "-nKwCTp949N6"
      },
      "source": [
        "Из графика для случая положительного результата теста видно, что лучше сосредоточиться на уменьшении числа ложноположительных результатов (FPR): в таком случае положительный тест будет почти гарантированно говорить о наличии болезни."
      ]
    },
    {
      "cell_type": "code",
      "metadata": {
        "id": "PU8OzZtZ6pPV"
      },
      "source": [
        "def posterior_neg_test(fpr: float = 0.05, fnr: float = 0.05):\r\n",
        "    \"\"\"\r\n",
        "    Calculate posterior probability of sickness given\r\n",
        "    a negative test result:\r\n",
        "    p(sick | neg_test) = p(neg_test | sick) * p(sick) / p(neg_test) = \r\n",
        "    p(neg_test | sick) * p(sick) / (p(neg_test | sick) * p(sick) +\r\n",
        "    p(neg_test | healthy) * p(healthy))\r\n",
        "    \"\"\"\r\n",
        "    tnr = 1 - fpr\r\n",
        "    return fnr * sick_rate / (fnr * sick_rate + tnr * (1 - sick_rate))"
      ],
      "execution_count": 6,
      "outputs": []
    },
    {
      "cell_type": "code",
      "metadata": {
        "colab": {
          "base_uri": "https://localhost:8080/",
          "height": 513
        },
        "id": "ByRiX4Ss7qc9",
        "outputId": "d59b59fd-348c-41db-e1a4-7574e1242de8"
      },
      "source": [
        "x = np.linspace(0.00, 0.05, 101)  # the error can change from 0 to 0.05\r\n",
        "\r\n",
        "plt.figure(figsize=figsize)\r\n",
        "plt.title(\"Posterior probability of sickness given a negative test result\")\r\n",
        "plt.plot(x, posterior_neg_test(fpr=x), label=\"False positive rate\")\r\n",
        "plt.plot(x, posterior_neg_test(fnr=x), label=\"False negative rate\")\r\n",
        "plt.xlabel(\"Error rate\")\r\n",
        "plt.ylabel(\"Probability\")\r\n",
        "plt.grid(True)\r\n",
        "plt.legend(fontsize=legend_fontsize);"
      ],
      "execution_count": 7,
      "outputs": [
        {
          "output_type": "display_data",
          "data": {
            "image/png": "[encoded data removed]",
            "text/plain": [
              "<Figure size 1152x576 with 1 Axes>"
            ]
          },
          "metadata": {
            "tags": []
          }
        }
      ]
    },
    {
      "cell_type": "markdown",
      "metadata": {
        "id": "jiz8KBvI8oEG"
      },
      "source": [
        "Из графика для случая отрицательного результата теста видно, что лучше сосредоточиться на уменьшении числа ложноотрицательных результатов (FNR): в таком случае отрицательный тест будет говорить о почти гарантированном отсутствии болезни."
      ]
    },
    {
      "cell_type": "markdown",
      "metadata": {
        "id": "3SBvyhkN95Fk"
      },
      "source": [
        "Как можно заметить, мы получили прямо противоположные результаты. Это говорит о том, что окончательное решение о снижении того или иного вида ошибки необходимо принимать исходя из многих факторов: серьёзности болезни (можем ли мы допустить промах в тесте или нет), вредности обследования (например, многократное прохождение рентгена \"для перестраховки\" — не самая хорошая затея), его стоимости и сложности."
      ]
    },
    {
      "cell_type": "markdown",
      "metadata": {
        "id": "VKAcEjHJ021E"
      },
      "source": [
        "# Часть II: О линейной регрессии"
      ]
    },
    {
      "cell_type": "markdown",
      "metadata": {
        "id": "n4ntnejo5sdF"
      },
      "source": [
        "Эта часть первого домашнего задания связана с анализом конкретного датасета. Датасет давайте возьмём довольно релевантный реальной жизни; он доступен по следующей ссылке: https://ourworldindata.org/coronavirus-source-data"
      ]
    },
    {
      "cell_type": "markdown",
      "metadata": {
        "id": "DXSQ-mRz5uZ5"
      },
      "source": [
        "## 2.1"
      ]
    },
    {
      "cell_type": "markdown",
      "metadata": {
        "id": "w9iSJBJB58KY"
      },
      "source": [
        "Скачайте данные в формате csv, выберите из таблицы данные по России, начиная с 3 марта 2020 г. (в этот момент впервые стало больше 2 заболевших). В качестве целевой переменной возьмём число случаев заболевания (столбцы `total_cases` и `new_cases`); для упрощения обработки можно заменить в столбце `new_cases` все нули на единицы. Для единообразия давайте зафиксируем тренировочный набор в виде первых 50 отсчётов (дней), начиная с 3 марта; остальные данные можно использовать в качестве тестового набора (и он даже будет увеличиваться по мере выполнения задания). Иначе говоря, мы будем \"играть\" за российские власти, которые пытаются понять, что делать, глядя на данные об эпидемии в мае 2020 года."
      ]
    },
    {
      "cell_type": "code",
      "metadata": {
        "id": "_U21bC2N9GPK"
      },
      "source": [
        "# Download dataset\r\n",
        "!wget -q https://covid.ourworldindata.org/data/owid-covid-data.csv"
      ],
      "execution_count": 8,
      "outputs": []
    },
    {
      "cell_type": "code",
      "metadata": {
        "id": "Y0IN_T4e9KVu"
      },
      "source": [
        "# Define dates\r\n",
        "START_DATE = datetime(2020, 3, 3)\r\n",
        "MAY_FIRST = (datetime(2020, 5, 1) - START_DATE).days\r\n",
        "JUNE_FIRST = (datetime(2020, 6, 1) - START_DATE).days\r\n",
        "SEPTEMBER_FIRST = (datetime(2020, 9, 1) - START_DATE).days"
      ],
      "execution_count": 9,
      "outputs": []
    },
    {
      "cell_type": "code",
      "metadata": {
        "id": "FvKjTWXf9MyU",
        "colab": {
          "base_uri": "https://localhost:8080/"
        },
        "outputId": "5fd7da1a-3322-4adb-a248-c95a2c93d5b3"
      },
      "source": [
        "# Read dataset\r\n",
        "df = pd.read_csv(\"/content/owid-covid-data.csv\")\r\n",
        "print(df.shape)"
      ],
      "execution_count": 10,
      "outputs": [
        {
          "output_type": "stream",
          "text": [
            "(71494, 59)\n"
          ],
          "name": "stdout"
        }
      ]
    },
    {
      "cell_type": "code",
      "metadata": {
        "colab": {
          "base_uri": "https://localhost:8080/",
          "height": 206
        },
        "id": "lKbN-uhMCML-",
        "outputId": "72a7b0c5-2762-451e-e48c-1bd30644e617"
      },
      "source": [
        "# Drop all unnesessary columns\r\n",
        "cols_to_get = [\"date\", \"location\", \"total_cases\", \"new_cases\"]\r\n",
        "df = df[cols_to_get]\r\n",
        "\r\n",
        "# Cast date column to datetime type\r\n",
        "df[\"date\"] = pd.to_datetime(df[\"date\"], format=\"%Y-%m-%d\")\r\n",
        "\r\n",
        "df.head()"
      ],
      "execution_count": 11,
      "outputs": [
        {
          "output_type": "execute_result",
          "data": {
            "text/html": [
              "<div>\n",
              "<style scoped>\n",
              "    .dataframe tbody tr th:only-of-type {\n",
              "        vertical-align: middle;\n",
              "    }\n",
              "\n",
              "    .dataframe tbody tr th {\n",
              "        vertical-align: top;\n",
              "    }\n",
              "\n",
              "    .dataframe thead th {\n",
              "        text-align: right;\n",
              "    }\n",
              "</style>\n",
              "<table border=\"1\" class=\"dataframe\">\n",
              "  <thead>\n",
              "    <tr style=\"text-align: right;\">\n",
              "      <th></th>\n",
              "      <th>date</th>\n",
              "      <th>location</th>\n",
              "      <th>total_cases</th>\n",
              "      <th>new_cases</th>\n",
              "    </tr>\n",
              "  </thead>\n",
              "  <tbody>\n",
              "    <tr>\n",
              "      <th>0</th>\n",
              "      <td>2020-02-24</td>\n",
              "      <td>Afghanistan</td>\n",
              "      <td>1.0</td>\n",
              "      <td>1.0</td>\n",
              "    </tr>\n",
              "    <tr>\n",
              "      <th>1</th>\n",
              "      <td>2020-02-25</td>\n",
              "      <td>Afghanistan</td>\n",
              "      <td>1.0</td>\n",
              "      <td>0.0</td>\n",
              "    </tr>\n",
              "    <tr>\n",
              "      <th>2</th>\n",
              "      <td>2020-02-26</td>\n",
              "      <td>Afghanistan</td>\n",
              "      <td>1.0</td>\n",
              "      <td>0.0</td>\n",
              "    </tr>\n",
              "    <tr>\n",
              "      <th>3</th>\n",
              "      <td>2020-02-27</td>\n",
              "      <td>Afghanistan</td>\n",
              "      <td>1.0</td>\n",
              "      <td>0.0</td>\n",
              "    </tr>\n",
              "    <tr>\n",
              "      <th>4</th>\n",
              "      <td>2020-02-28</td>\n",
              "      <td>Afghanistan</td>\n",
              "      <td>1.0</td>\n",
              "      <td>0.0</td>\n",
              "    </tr>\n",
              "  </tbody>\n",
              "</table>\n",
              "</div>"
            ],
            "text/plain": [
              "        date     location  total_cases  new_cases\n",
              "0 2020-02-24  Afghanistan          1.0        1.0\n",
              "1 2020-02-25  Afghanistan          1.0        0.0\n",
              "2 2020-02-26  Afghanistan          1.0        0.0\n",
              "3 2020-02-27  Afghanistan          1.0        0.0\n",
              "4 2020-02-28  Afghanistan          1.0        0.0"
            ]
          },
          "metadata": {
            "tags": []
          },
          "execution_count": 11
        }
      ]
    },
    {
      "cell_type": "code",
      "metadata": {
        "colab": {
          "base_uri": "https://localhost:8080/",
          "height": 225
        },
        "id": "teHF_TzZA0lR",
        "outputId": "5083427a-8c88-4778-c2b1-9cc719340d92"
      },
      "source": [
        "# Get data for Russia\r\n",
        "df_russia = df[df[\"location\"] == \"Russia\"]\r\n",
        "print(df_russia.shape)\r\n",
        "df_russia.head()"
      ],
      "execution_count": 12,
      "outputs": [
        {
          "output_type": "stream",
          "text": [
            "(393, 4)\n"
          ],
          "name": "stdout"
        },
        {
          "output_type": "execute_result",
          "data": {
            "text/html": [
              "<div>\n",
              "<style scoped>\n",
              "    .dataframe tbody tr th:only-of-type {\n",
              "        vertical-align: middle;\n",
              "    }\n",
              "\n",
              "    .dataframe tbody tr th {\n",
              "        vertical-align: top;\n",
              "    }\n",
              "\n",
              "    .dataframe thead th {\n",
              "        text-align: right;\n",
              "    }\n",
              "</style>\n",
              "<table border=\"1\" class=\"dataframe\">\n",
              "  <thead>\n",
              "    <tr style=\"text-align: right;\">\n",
              "      <th></th>\n",
              "      <th>date</th>\n",
              "      <th>location</th>\n",
              "      <th>total_cases</th>\n",
              "      <th>new_cases</th>\n",
              "    </tr>\n",
              "  </thead>\n",
              "  <tbody>\n",
              "    <tr>\n",
              "      <th>52890</th>\n",
              "      <td>2020-01-31</td>\n",
              "      <td>Russia</td>\n",
              "      <td>2.0</td>\n",
              "      <td>2.0</td>\n",
              "    </tr>\n",
              "    <tr>\n",
              "      <th>52891</th>\n",
              "      <td>2020-02-01</td>\n",
              "      <td>Russia</td>\n",
              "      <td>2.0</td>\n",
              "      <td>0.0</td>\n",
              "    </tr>\n",
              "    <tr>\n",
              "      <th>52892</th>\n",
              "      <td>2020-02-02</td>\n",
              "      <td>Russia</td>\n",
              "      <td>2.0</td>\n",
              "      <td>0.0</td>\n",
              "    </tr>\n",
              "    <tr>\n",
              "      <th>52893</th>\n",
              "      <td>2020-02-03</td>\n",
              "      <td>Russia</td>\n",
              "      <td>2.0</td>\n",
              "      <td>0.0</td>\n",
              "    </tr>\n",
              "    <tr>\n",
              "      <th>52894</th>\n",
              "      <td>2020-02-04</td>\n",
              "      <td>Russia</td>\n",
              "      <td>2.0</td>\n",
              "      <td>0.0</td>\n",
              "    </tr>\n",
              "  </tbody>\n",
              "</table>\n",
              "</div>"
            ],
            "text/plain": [
              "            date location  total_cases  new_cases\n",
              "52890 2020-01-31   Russia          2.0        2.0\n",
              "52891 2020-02-01   Russia          2.0        0.0\n",
              "52892 2020-02-02   Russia          2.0        0.0\n",
              "52893 2020-02-03   Russia          2.0        0.0\n",
              "52894 2020-02-04   Russia          2.0        0.0"
            ]
          },
          "metadata": {
            "tags": []
          },
          "execution_count": 12
        }
      ]
    },
    {
      "cell_type": "code",
      "metadata": {
        "colab": {
          "base_uri": "https://localhost:8080/",
          "height": 225
        },
        "id": "ix_JKwu4DV0d",
        "outputId": "b208bfc0-84c7-47a8-e329-7fa8a2dcb281"
      },
      "source": [
        "# Drop all data before START_DATE\r\n",
        "df_russia = df_russia[df_russia[\"date\"] >= START_DATE]\r\n",
        "print(df_russia.shape)\r\n",
        "df_russia.head()"
      ],
      "execution_count": 13,
      "outputs": [
        {
          "output_type": "stream",
          "text": [
            "(361, 4)\n"
          ],
          "name": "stdout"
        },
        {
          "output_type": "execute_result",
          "data": {
            "text/html": [
              "<div>\n",
              "<style scoped>\n",
              "    .dataframe tbody tr th:only-of-type {\n",
              "        vertical-align: middle;\n",
              "    }\n",
              "\n",
              "    .dataframe tbody tr th {\n",
              "        vertical-align: top;\n",
              "    }\n",
              "\n",
              "    .dataframe thead th {\n",
              "        text-align: right;\n",
              "    }\n",
              "</style>\n",
              "<table border=\"1\" class=\"dataframe\">\n",
              "  <thead>\n",
              "    <tr style=\"text-align: right;\">\n",
              "      <th></th>\n",
              "      <th>date</th>\n",
              "      <th>location</th>\n",
              "      <th>total_cases</th>\n",
              "      <th>new_cases</th>\n",
              "    </tr>\n",
              "  </thead>\n",
              "  <tbody>\n",
              "    <tr>\n",
              "      <th>52922</th>\n",
              "      <td>2020-03-03</td>\n",
              "      <td>Russia</td>\n",
              "      <td>3.0</td>\n",
              "      <td>0.0</td>\n",
              "    </tr>\n",
              "    <tr>\n",
              "      <th>52923</th>\n",
              "      <td>2020-03-04</td>\n",
              "      <td>Russia</td>\n",
              "      <td>3.0</td>\n",
              "      <td>0.0</td>\n",
              "    </tr>\n",
              "    <tr>\n",
              "      <th>52924</th>\n",
              "      <td>2020-03-05</td>\n",
              "      <td>Russia</td>\n",
              "      <td>4.0</td>\n",
              "      <td>1.0</td>\n",
              "    </tr>\n",
              "    <tr>\n",
              "      <th>52925</th>\n",
              "      <td>2020-03-06</td>\n",
              "      <td>Russia</td>\n",
              "      <td>13.0</td>\n",
              "      <td>9.0</td>\n",
              "    </tr>\n",
              "    <tr>\n",
              "      <th>52926</th>\n",
              "      <td>2020-03-07</td>\n",
              "      <td>Russia</td>\n",
              "      <td>13.0</td>\n",
              "      <td>0.0</td>\n",
              "    </tr>\n",
              "  </tbody>\n",
              "</table>\n",
              "</div>"
            ],
            "text/plain": [
              "            date location  total_cases  new_cases\n",
              "52922 2020-03-03   Russia          3.0        0.0\n",
              "52923 2020-03-04   Russia          3.0        0.0\n",
              "52924 2020-03-05   Russia          4.0        1.0\n",
              "52925 2020-03-06   Russia         13.0        9.0\n",
              "52926 2020-03-07   Russia         13.0        0.0"
            ]
          },
          "metadata": {
            "tags": []
          },
          "execution_count": 13
        }
      ]
    },
    {
      "cell_type": "code",
      "metadata": {
        "colab": {
          "base_uri": "https://localhost:8080/",
          "height": 225
        },
        "id": "ehklehqVD9PP",
        "outputId": "2ae20ad9-a6db-486b-9116-af2050aab2f2"
      },
      "source": [
        "# Replace all zeros with ones for the new_cases column\r\n",
        "df_russia.loc[df_russia[\"new_cases\"] == 0, \"new_cases\"] = 1\r\n",
        "print(df_russia.shape)\r\n",
        "df_russia.head()"
      ],
      "execution_count": 14,
      "outputs": [
        {
          "output_type": "stream",
          "text": [
            "(361, 4)\n"
          ],
          "name": "stdout"
        },
        {
          "output_type": "execute_result",
          "data": {
            "text/html": [
              "<div>\n",
              "<style scoped>\n",
              "    .dataframe tbody tr th:only-of-type {\n",
              "        vertical-align: middle;\n",
              "    }\n",
              "\n",
              "    .dataframe tbody tr th {\n",
              "        vertical-align: top;\n",
              "    }\n",
              "\n",
              "    .dataframe thead th {\n",
              "        text-align: right;\n",
              "    }\n",
              "</style>\n",
              "<table border=\"1\" class=\"dataframe\">\n",
              "  <thead>\n",
              "    <tr style=\"text-align: right;\">\n",
              "      <th></th>\n",
              "      <th>date</th>\n",
              "      <th>location</th>\n",
              "      <th>total_cases</th>\n",
              "      <th>new_cases</th>\n",
              "    </tr>\n",
              "  </thead>\n",
              "  <tbody>\n",
              "    <tr>\n",
              "      <th>52922</th>\n",
              "      <td>2020-03-03</td>\n",
              "      <td>Russia</td>\n",
              "      <td>3.0</td>\n",
              "      <td>1.0</td>\n",
              "    </tr>\n",
              "    <tr>\n",
              "      <th>52923</th>\n",
              "      <td>2020-03-04</td>\n",
              "      <td>Russia</td>\n",
              "      <td>3.0</td>\n",
              "      <td>1.0</td>\n",
              "    </tr>\n",
              "    <tr>\n",
              "      <th>52924</th>\n",
              "      <td>2020-03-05</td>\n",
              "      <td>Russia</td>\n",
              "      <td>4.0</td>\n",
              "      <td>1.0</td>\n",
              "    </tr>\n",
              "    <tr>\n",
              "      <th>52925</th>\n",
              "      <td>2020-03-06</td>\n",
              "      <td>Russia</td>\n",
              "      <td>13.0</td>\n",
              "      <td>9.0</td>\n",
              "    </tr>\n",
              "    <tr>\n",
              "      <th>52926</th>\n",
              "      <td>2020-03-07</td>\n",
              "      <td>Russia</td>\n",
              "      <td>13.0</td>\n",
              "      <td>1.0</td>\n",
              "    </tr>\n",
              "  </tbody>\n",
              "</table>\n",
              "</div>"
            ],
            "text/plain": [
              "            date location  total_cases  new_cases\n",
              "52922 2020-03-03   Russia          3.0        1.0\n",
              "52923 2020-03-04   Russia          3.0        1.0\n",
              "52924 2020-03-05   Russia          4.0        1.0\n",
              "52925 2020-03-06   Russia         13.0        9.0\n",
              "52926 2020-03-07   Russia         13.0        1.0"
            ]
          },
          "metadata": {
            "tags": []
          },
          "execution_count": 14
        }
      ]
    },
    {
      "cell_type": "code",
      "metadata": {
        "id": "X7bYe5oX9Zi9"
      },
      "source": [
        "# Convert date to current day number\r\n",
        "df_russia[\"day\"] = (df[\"date\"] - START_DATE).dt.days"
      ],
      "execution_count": 15,
      "outputs": []
    },
    {
      "cell_type": "code",
      "metadata": {
        "id": "7wiJZTR99eZh"
      },
      "source": [
        "russia_train = df_russia.iloc[:50]\r\n",
        "russia_test = df_russia.iloc[50:]"
      ],
      "execution_count": 16,
      "outputs": []
    },
    {
      "cell_type": "code",
      "metadata": {
        "colab": {
          "base_uri": "https://localhost:8080/",
          "height": 206
        },
        "id": "1DLjSXKR9hhi",
        "outputId": "4121e13c-cb39-4c73-d63f-01007f4fe9aa"
      },
      "source": [
        "russia_train.head()"
      ],
      "execution_count": 17,
      "outputs": [
        {
          "output_type": "execute_result",
          "data": {
            "text/html": [
              "<div>\n",
              "<style scoped>\n",
              "    .dataframe tbody tr th:only-of-type {\n",
              "        vertical-align: middle;\n",
              "    }\n",
              "\n",
              "    .dataframe tbody tr th {\n",
              "        vertical-align: top;\n",
              "    }\n",
              "\n",
              "    .dataframe thead th {\n",
              "        text-align: right;\n",
              "    }\n",
              "</style>\n",
              "<table border=\"1\" class=\"dataframe\">\n",
              "  <thead>\n",
              "    <tr style=\"text-align: right;\">\n",
              "      <th></th>\n",
              "      <th>date</th>\n",
              "      <th>location</th>\n",
              "      <th>total_cases</th>\n",
              "      <th>new_cases</th>\n",
              "      <th>day</th>\n",
              "    </tr>\n",
              "  </thead>\n",
              "  <tbody>\n",
              "    <tr>\n",
              "      <th>52922</th>\n",
              "      <td>2020-03-03</td>\n",
              "      <td>Russia</td>\n",
              "      <td>3.0</td>\n",
              "      <td>1.0</td>\n",
              "      <td>0</td>\n",
              "    </tr>\n",
              "    <tr>\n",
              "      <th>52923</th>\n",
              "      <td>2020-03-04</td>\n",
              "      <td>Russia</td>\n",
              "      <td>3.0</td>\n",
              "      <td>1.0</td>\n",
              "      <td>1</td>\n",
              "    </tr>\n",
              "    <tr>\n",
              "      <th>52924</th>\n",
              "      <td>2020-03-05</td>\n",
              "      <td>Russia</td>\n",
              "      <td>4.0</td>\n",
              "      <td>1.0</td>\n",
              "      <td>2</td>\n",
              "    </tr>\n",
              "    <tr>\n",
              "      <th>52925</th>\n",
              "      <td>2020-03-06</td>\n",
              "      <td>Russia</td>\n",
              "      <td>13.0</td>\n",
              "      <td>9.0</td>\n",
              "      <td>3</td>\n",
              "    </tr>\n",
              "    <tr>\n",
              "      <th>52926</th>\n",
              "      <td>2020-03-07</td>\n",
              "      <td>Russia</td>\n",
              "      <td>13.0</td>\n",
              "      <td>1.0</td>\n",
              "      <td>4</td>\n",
              "    </tr>\n",
              "  </tbody>\n",
              "</table>\n",
              "</div>"
            ],
            "text/plain": [
              "            date location  total_cases  new_cases  day\n",
              "52922 2020-03-03   Russia          3.0        1.0    0\n",
              "52923 2020-03-04   Russia          3.0        1.0    1\n",
              "52924 2020-03-05   Russia          4.0        1.0    2\n",
              "52925 2020-03-06   Russia         13.0        9.0    3\n",
              "52926 2020-03-07   Russia         13.0        1.0    4"
            ]
          },
          "metadata": {
            "tags": []
          },
          "execution_count": 17
        }
      ]
    },
    {
      "cell_type": "markdown",
      "metadata": {
        "id": "OgoIOU8f6AC8"
      },
      "source": [
        "## 2.2"
      ]
    },
    {
      "cell_type": "markdown",
      "metadata": {
        "id": "UE7HZmmG6Mmu"
      },
      "source": [
        "Постройте графики целевых переменных. Вы увидите, что число заболевших растёт очень быстро, на первый взгляд экспоненциально. Для первого подхода к снаряду давайте это и используем."
      ]
    },
    {
      "cell_type": "code",
      "metadata": {
        "colab": {
          "base_uri": "https://localhost:8080/",
          "height": 508
        },
        "id": "D_yJ1zdgG2go",
        "outputId": "0e8955f9-d5d3-4610-d6ac-2589f4a52f36"
      },
      "source": [
        "plt.figure(figsize=figsize)\r\n",
        "plt.plot(df_russia[\"date\"], df_russia[\"new_cases\"], label=\"New cases\")\r\n",
        "plt.plot(df_russia[\"date\"], df_russia[\"total_cases\"], label=\"Total cases\")\r\n",
        "plt.grid(True)\r\n",
        "plt.xlabel(\"Date\")\r\n",
        "plt.ylabel(\"Number of cases\")\r\n",
        "plt.legend(fontsize=legend_fontsize);"
      ],
      "execution_count": 18,
      "outputs": [
        {
          "output_type": "display_data",
          "data": {
            "image/png": "[encoded data removed]",
            "text/plain": [
              "<Figure size 1152x576 with 1 Axes>"
            ]
          },
          "metadata": {
            "tags": []
          }
        }
      ]
    },
    {
      "cell_type": "markdown",
      "metadata": {
        "id": "sjN3B2bBjCIO"
      },
      "source": [
        "### 2.2.a"
      ]
    },
    {
      "cell_type": "markdown",
      "metadata": {
        "id": "0s_3OOPjHUIE"
      },
      "source": [
        "Используя линейную регрессию, обучите модель с экспоненциальным ростом числа заболевших: _y ~ exp(линейная функция от x)_, где x — номер текущего дня."
      ]
    },
    {
      "cell_type": "markdown",
      "metadata": {
        "id": "JgxP55ibjHvZ"
      },
      "source": [
        "Представим функцию числа заболевших в виде:\r\n",
        "\r\n",
        "$\\displaystyle y \\sim e^{kx + b}$.\r\n",
        "\r\n",
        "Логарифмируем обе части выражения и получим:\r\n",
        "\r\n",
        "$\\displaystyle log(y) \\sim log(e^{kx + b}) = kx + b$.\r\n",
        "\r\n",
        "Обучим модель с единственным признаком — номером текущего дня, и целевой переменной — логарифмом числа заболевших."
      ]
    },
    {
      "cell_type": "code",
      "metadata": {
        "id": "yvGln0WPJVK2"
      },
      "source": [
        "model = LinearRegression()"
      ],
      "execution_count": 19,
      "outputs": []
    },
    {
      "cell_type": "code",
      "metadata": {
        "colab": {
          "base_uri": "https://localhost:8080/"
        },
        "id": "5Uoaqf5SJWOp",
        "outputId": "42795adf-35c0-4450-9f9b-29b1127fdfd9"
      },
      "source": [
        "model.fit(russia_train[\"day\"].values.reshape(-1, 1), np.log(russia_train[\"total_cases\"]))"
      ],
      "execution_count": 20,
      "outputs": [
        {
          "output_type": "execute_result",
          "data": {
            "text/plain": [
              "LinearRegression(copy_X=True, fit_intercept=True, n_jobs=None, normalize=False)"
            ]
          },
          "metadata": {
            "tags": []
          },
          "execution_count": 20
        }
      ]
    },
    {
      "cell_type": "code",
      "metadata": {
        "colab": {
          "base_uri": "https://localhost:8080/",
          "height": 497
        },
        "id": "QRtF6-9fJYGL",
        "outputId": "6e96f907-90b6-463c-81a9-bdb370fea563"
      },
      "source": [
        "prediction = model.predict(russia_train[\"day\"].values.reshape(-1, 1))\r\n",
        "\r\n",
        "plt.figure(figsize=figsize)\r\n",
        "plt.plot(\r\n",
        "    russia_train[\"date\"],\r\n",
        "    russia_train[\"total_cases\"],\r\n",
        "    label=\"True values\"\r\n",
        ")\r\n",
        "plt.plot(\r\n",
        "    russia_train[\"date\"],\r\n",
        "    np.exp(prediction),\r\n",
        "    label=\"Predicted values\"\r\n",
        ")\r\n",
        "plt.grid(True)\r\n",
        "plt.xlabel(\"Date\")\r\n",
        "plt.ylabel(\"Total cases\")\r\n",
        "plt.legend(fontsize=legend_fontsize);"
      ],
      "execution_count": 21,
      "outputs": [
        {
          "output_type": "display_data",
          "data": {
            "image/png": "[encoded data removed]",
            "text/plain": [
              "<Figure size 1152x576 with 1 Axes>"
            ]
          },
          "metadata": {
            "tags": []
          }
        }
      ]
    },
    {
      "cell_type": "markdown",
      "metadata": {
        "id": "gr-gY9lujLHS"
      },
      "source": [
        "### 2.2.b"
      ]
    },
    {
      "cell_type": "markdown",
      "metadata": {
        "id": "CU0jsD7mHshI"
      },
      "source": [
        "Найдите апостериорное распределение параметров этой модели для достаточно широкого априорного распределения. Требующееся для этого значение дисперсии шума в данных оцените, исходя из вашей же максимальной апостериорной модели (это фактически первый шаг эмпирического Байеса)."
      ]
    },
    {
      "cell_type": "markdown",
      "metadata": {
        "id": "Ija9r2GgKBy_"
      },
      "source": [
        "Оценим дисперсию шума данных согласно следующей формуле:\r\n",
        "$$\\displaystyle \\sigma^2 = \\frac{1}{N} \\sum_{n=1}^{N}(y_n - w^T \\Phi(x_n))^2$$"
      ]
    },
    {
      "cell_type": "code",
      "metadata": {
        "id": "M6GnsqwjLUXA"
      },
      "source": [
        "sigma_noise = np.mean((np.log(russia_train[\"total_cases\"]) - prediction) ** 2)"
      ],
      "execution_count": 22,
      "outputs": []
    },
    {
      "cell_type": "markdown",
      "metadata": {
        "id": "TEuNvwVILlux"
      },
      "source": [
        "Найдём апостериорное распределение параметров модели:\r\n",
        "\r\n",
        "$$\\displaystyle \\Sigma_n = (\\Sigma_0^{-1} + \\frac{1}{\\sigma^2}\\Phi^T\\Phi)^{-1}$$"
      ]
    },
    {
      "cell_type": "code",
      "metadata": {
        "id": "Vdxx_c4NLqxl"
      },
      "source": [
        "def bayesian_update(mu, sigma, x, y, sigma_noise):\r\n",
        "    sigma_n = np.linalg.inv(np.linalg.inv(sigma) + (1 / (sigma_noise ** 2)) *\r\n",
        "                            np.matmul(np.transpose(x), x) )\r\n",
        "    mu_n = np.matmul(sigma_n,\r\n",
        "                     np.matmul(np.linalg.inv(sigma), np.transpose(mu)) +\r\n",
        "                     (1 / (sigma_noise ** 2)) * np.matmul(np.transpose(x), y))\r\n",
        "    return mu_n, sigma_n"
      ],
      "execution_count": 23,
      "outputs": []
    },
    {
      "cell_type": "code",
      "metadata": {
        "id": "wpnKAb9hOTHE"
      },
      "source": [
        "x = np.column_stack([np.ones(russia_train.shape[0]), russia_train[\"day\"]])\r\n",
        "\r\n",
        "mu, sigma = bayesian_update(np.zeros(2),\r\n",
        "                            1000 * np.eye(2),\r\n",
        "                            x,\r\n",
        "                            np.log(russia_train[\"total_cases\"]).values,\r\n",
        "                            sigma_noise)"
      ],
      "execution_count": 24,
      "outputs": []
    },
    {
      "cell_type": "code",
      "metadata": {
        "colab": {
          "base_uri": "https://localhost:8080/"
        },
        "id": "e7fn_yDVOdJT",
        "outputId": "c3a301b8-3b04-4734-ef6e-b957f5c218db"
      },
      "source": [
        "print(f\"W mean:\\n{mu}\")\r\n",
        "print(f\"W variance:\\n{sigma}\")"
      ],
      "execution_count": 25,
      "outputs": [
        {
          "output_type": "stream",
          "text": [
            "W mean:\n",
            "[1.82073506 0.19829098]\n",
            "W variance:\n",
            "[[ 1.15248767e-03 -3.49238688e-05]\n",
            " [-3.49238688e-05  1.42546446e-06]]\n"
          ],
          "name": "stdout"
        }
      ]
    },
    {
      "cell_type": "markdown",
      "metadata": {
        "id": "vv972GXBjMg8"
      },
      "source": [
        "### 2.2.c"
      ]
    },
    {
      "cell_type": "markdown",
      "metadata": {
        "id": "dpm_kwJXJgEI"
      },
      "source": [
        "Посэмплируйте много разных экспонент, постройте графики. Сколько, исходя из этих сэмплов, предсказывается случаев коронавируса в России к 1 мая 2020 года? к 1 июня? к 1 сентября? Постройте предсказательные распределения (можно эмпирически, исходя из данных сэмплирования)."
      ]
    },
    {
      "cell_type": "markdown",
      "metadata": {
        "id": "1wMujgmY6T_Y"
      },
      "source": [
        "## 2.3"
      ]
    },
    {
      "cell_type": "markdown",
      "metadata": {
        "id": "Z_hTXw557VcF"
      },
      "source": [
        "Предсказания экспоненциальной модели наверняка получились грустными. Но это, конечно, чересчур пессимистично — экспоненциальный рост в природе никак не может продолжаться вечно. Кривая общего числа заболевших во время эпидемии в реальности имеет сигмоидальный вид: после начальной фазы экспоненциального роста неизбежно происходит насыщение. В качестве конкретной формы такой сигмоиды давайте возьмём форму функции распределения для гауссиана:\r\n",
        "\r\n",
        "$$\\displaystyle \\Phi(x) = \\frac{1}{\\sqrt{2\\pi}} \\int_{-\\infty}^x \\mathrm{e}^{-t^2/2}\\,\\mathrm{d}t$$\r\n",
        "\r\n",
        "Естественно, в нашем случае сигмоида стремится не к единице, т.е. константа перед интегралом может быть произвольной (и её можно внести в экспоненту), а в экспоненте под интегралом может быть произвольная квадратичная функция от _t_."
      ]
    },
    {
      "cell_type": "markdown",
      "metadata": {
        "id": "hTURdvsNbsX5"
      },
      "source": [
        "### 2.3.a"
      ]
    },
    {
      "cell_type": "markdown",
      "metadata": {
        "id": "SuPASMisbvpA"
      },
      "source": [
        "Предложите способ обучать параметры такой сигмоидальной функции при помощи линейной регрессии."
      ]
    },
    {
      "cell_type": "markdown",
      "metadata": {
        "id": "7PsU742vb2MK"
      },
      "source": [
        "### 2.4.b"
      ]
    },
    {
      "cell_type": "markdown",
      "metadata": {
        "id": "Jb6izomfb4hO"
      },
      "source": [
        "Обучите эти параметры на датасете случаев коронавируса в России. Найдите апостериорное распределение параметров этой модели для достаточно широкого априорного распределения. Требующееся для этого значение дисперсии шума в данных оцените, исходя из вашей же максимальной апостериорной модели."
      ]
    },
    {
      "cell_type": "markdown",
      "metadata": {
        "id": "F4-8pMXAdgPU"
      },
      "source": [
        "### 2.4.c"
      ]
    },
    {
      "cell_type": "markdown",
      "metadata": {
        "id": "XUGPS0DMdkC6"
      },
      "source": [
        "Посэмплируйте много разных сигмоид из апостериорного распределения, постройте графики. Сколько, исходя из этих сэмплов, будет всего случаев коронавируса в России? Постройте эмпирическое предсказательное распределение, нарисуйте графики. Каков ваш прогноз числа случаев коронавируса в пессимистичном сценарии (90-й процентиль в выборке числа случаев)? В оптимистичном сценарии (10-й процентиль)?"
      ]
    },
    {
      "cell_type": "markdown",
      "metadata": {
        "id": "Sarir7bj6V2K"
      },
      "source": [
        "## 2.4"
      ]
    },
    {
      "cell_type": "markdown",
      "metadata": {
        "id": "ZmYiKqNX7dxI"
      },
      "source": [
        "_Бонус_: проведите такой же анализ для других стран (здесь придётся руками подобрать дни начала моделирования — коронавирус приходил в разные страны в разное время). Насколько разные параметры получаются? Можно ли разделить страны на кластеры (хотя бы чисто визуально) в зависимости от этих параметров?"
      ]
    },
    {
      "cell_type": "markdown",
      "metadata": {
        "id": "ADu8OX9-6WzE"
      },
      "source": [
        "## 2.5"
      ]
    },
    {
      "cell_type": "markdown",
      "metadata": {
        "id": "n17RFDmE7hHn"
      },
      "source": [
        "_[Эта часть задания не оценивается, здесь нет правильных и неправильных ответов, но буду рад узнать, что вы думаете]_ Что вы поняли из этого упражнения? Что можно сказать про коронавирус по итогам такого моделирования? Как принять решение, например, о том, нужно ли вводить карантин?"
      ]
    },
    {
      "cell_type": "code",
      "metadata": {
        "id": "sB5pgtxytBgN"
      },
      "source": [
        ""
      ],
      "execution_count": 25,
      "outputs": []
    }
  ]
}